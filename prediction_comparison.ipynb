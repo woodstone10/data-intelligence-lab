{
  "nbformat": 4,
  "nbformat_minor": 0,
  "metadata": {
    "colab": {
      "name": "prediction comparison.ipynb",
      "provenance": [],
      "collapsed_sections": [],
      "authorship_tag": "ABX9TyNxVCfp3a6IhoAhDlRGFAwx",
      "include_colab_link": true
    },
    "kernelspec": {
      "name": "python3",
      "display_name": "Python 3"
    },
    "language_info": {
      "name": "python"
    }
  },
  "cells": [
    {
      "cell_type": "markdown",
      "metadata": {
        "id": "view-in-github",
        "colab_type": "text"
      },
      "source": [
        "<a href=\"https://colab.research.google.com/github/woodstone10/data-intelligence-lab/blob/main/prediction_comparison.ipynb\" target=\"_parent\"><img src=\"https://colab.research.google.com/assets/colab-badge.svg\" alt=\"Open In Colab\"/></a>"
      ]
    },
    {
      "cell_type": "markdown",
      "metadata": {
        "id": "3C3JG7AdAyMx"
      },
      "source": [
        "# Prediction Models Accurary Comparison\n",
        "\n",
        "---\n",
        "- Logistic Regression\n",
        "- Random Forest\n",
        "- Neural Network\n",
        "- Gaussian NB\n",
        "- Decision Tree Classifier\n",
        "- SVM\n"
      ]
    },
    {
      "cell_type": "code",
      "metadata": {
        "id": "PJLOadxn4OPs"
      },
      "source": [
        "import numpy as np\n",
        "import pandas as pd\n",
        "import matplotlib.pyplot as plt\n",
        "import tensorflow as tf\n",
        "import sklearn.model_selection\n",
        "import sklearn.preprocessing\n",
        "import sklearn.metrics\n",
        "import sklearn.linear_model\n",
        "import sklearn.ensemble\n",
        "import sklearn.neural_network\n",
        "import sklearn.naive_bayes\n",
        "import sklearn.tree\n",
        "import sklearn.svm"
      ],
      "execution_count": null,
      "outputs": []
    },
    {
      "cell_type": "markdown",
      "metadata": {
        "id": "luYg0derBSIl"
      },
      "source": [
        "## Data"
      ]
    },
    {
      "cell_type": "code",
      "metadata": {
        "colab": {
          "base_uri": "https://localhost:8080/",
          "height": 204
        },
        "id": "4xkf0RK48jXd",
        "outputId": "38c7c3d7-07ee-4a73-8e48-23c6d1bf53d4"
      },
      "source": [
        "a = pd.read_csv('https://raw.githubusercontent.com/woodstone10/dataset/main/adult.data', sep= ',', header= None,skiprows=1)\n",
        "b = pd.read_csv('https://raw.githubusercontent.com/woodstone10/dataset/main/adult.test', sep= ',', header= None,skiprows=1)\n",
        "df = pd.concat([a, b])\n",
        "df.head()"
      ],
      "execution_count": null,
      "outputs": [
        {
          "output_type": "execute_result",
          "data": {
            "text/html": [
              "<div>\n",
              "<style scoped>\n",
              "    .dataframe tbody tr th:only-of-type {\n",
              "        vertical-align: middle;\n",
              "    }\n",
              "\n",
              "    .dataframe tbody tr th {\n",
              "        vertical-align: top;\n",
              "    }\n",
              "\n",
              "    .dataframe thead th {\n",
              "        text-align: right;\n",
              "    }\n",
              "</style>\n",
              "<table border=\"1\" class=\"dataframe\">\n",
              "  <thead>\n",
              "    <tr style=\"text-align: right;\">\n",
              "      <th></th>\n",
              "      <th>0</th>\n",
              "      <th>1</th>\n",
              "      <th>2</th>\n",
              "      <th>3</th>\n",
              "      <th>4</th>\n",
              "      <th>5</th>\n",
              "      <th>6</th>\n",
              "      <th>7</th>\n",
              "      <th>8</th>\n",
              "      <th>9</th>\n",
              "      <th>10</th>\n",
              "      <th>11</th>\n",
              "      <th>12</th>\n",
              "      <th>13</th>\n",
              "      <th>14</th>\n",
              "    </tr>\n",
              "  </thead>\n",
              "  <tbody>\n",
              "    <tr>\n",
              "      <th>0</th>\n",
              "      <td>50</td>\n",
              "      <td>Self-emp-not-inc</td>\n",
              "      <td>83311</td>\n",
              "      <td>Bachelors</td>\n",
              "      <td>13</td>\n",
              "      <td>Married-civ-spouse</td>\n",
              "      <td>Exec-managerial</td>\n",
              "      <td>Husband</td>\n",
              "      <td>White</td>\n",
              "      <td>Male</td>\n",
              "      <td>0</td>\n",
              "      <td>0</td>\n",
              "      <td>13</td>\n",
              "      <td>United-States</td>\n",
              "      <td>&lt;=50K</td>\n",
              "    </tr>\n",
              "    <tr>\n",
              "      <th>1</th>\n",
              "      <td>38</td>\n",
              "      <td>Private</td>\n",
              "      <td>215646</td>\n",
              "      <td>HS-grad</td>\n",
              "      <td>9</td>\n",
              "      <td>Divorced</td>\n",
              "      <td>Handlers-cleaners</td>\n",
              "      <td>Not-in-family</td>\n",
              "      <td>White</td>\n",
              "      <td>Male</td>\n",
              "      <td>0</td>\n",
              "      <td>0</td>\n",
              "      <td>40</td>\n",
              "      <td>United-States</td>\n",
              "      <td>&lt;=50K</td>\n",
              "    </tr>\n",
              "    <tr>\n",
              "      <th>2</th>\n",
              "      <td>53</td>\n",
              "      <td>Private</td>\n",
              "      <td>234721</td>\n",
              "      <td>11th</td>\n",
              "      <td>7</td>\n",
              "      <td>Married-civ-spouse</td>\n",
              "      <td>Handlers-cleaners</td>\n",
              "      <td>Husband</td>\n",
              "      <td>Black</td>\n",
              "      <td>Male</td>\n",
              "      <td>0</td>\n",
              "      <td>0</td>\n",
              "      <td>40</td>\n",
              "      <td>United-States</td>\n",
              "      <td>&lt;=50K</td>\n",
              "    </tr>\n",
              "    <tr>\n",
              "      <th>3</th>\n",
              "      <td>28</td>\n",
              "      <td>Private</td>\n",
              "      <td>338409</td>\n",
              "      <td>Bachelors</td>\n",
              "      <td>13</td>\n",
              "      <td>Married-civ-spouse</td>\n",
              "      <td>Prof-specialty</td>\n",
              "      <td>Wife</td>\n",
              "      <td>Black</td>\n",
              "      <td>Female</td>\n",
              "      <td>0</td>\n",
              "      <td>0</td>\n",
              "      <td>40</td>\n",
              "      <td>Cuba</td>\n",
              "      <td>&lt;=50K</td>\n",
              "    </tr>\n",
              "    <tr>\n",
              "      <th>4</th>\n",
              "      <td>37</td>\n",
              "      <td>Private</td>\n",
              "      <td>284582</td>\n",
              "      <td>Masters</td>\n",
              "      <td>14</td>\n",
              "      <td>Married-civ-spouse</td>\n",
              "      <td>Exec-managerial</td>\n",
              "      <td>Wife</td>\n",
              "      <td>White</td>\n",
              "      <td>Female</td>\n",
              "      <td>0</td>\n",
              "      <td>0</td>\n",
              "      <td>40</td>\n",
              "      <td>United-States</td>\n",
              "      <td>&lt;=50K</td>\n",
              "    </tr>\n",
              "  </tbody>\n",
              "</table>\n",
              "</div>"
            ],
            "text/plain": [
              "   0                  1       2           3   ...  11  12              13      14\n",
              "0  50   Self-emp-not-inc   83311   Bachelors  ...   0  13   United-States   <=50K\n",
              "1  38            Private  215646     HS-grad  ...   0  40   United-States   <=50K\n",
              "2  53            Private  234721        11th  ...   0  40   United-States   <=50K\n",
              "3  28            Private  338409   Bachelors  ...   0  40            Cuba   <=50K\n",
              "4  37            Private  284582     Masters  ...   0  40   United-States   <=50K\n",
              "\n",
              "[5 rows x 15 columns]"
            ]
          },
          "metadata": {
            "tags": []
          },
          "execution_count": 4
        }
      ]
    },
    {
      "cell_type": "code",
      "metadata": {
        "colab": {
          "base_uri": "https://localhost:8080/"
        },
        "id": "pW302V-78mst",
        "outputId": "bf7c82c5-3c3c-4ac0-dc1f-7a2dc76b4258"
      },
      "source": [
        "data = df\n",
        "data.replace({\n",
        "    ' <=50K':0,\n",
        "    ' <=50K.':0,\n",
        "    ' >50K':1,\n",
        "    ' >50K.':1,\n",
        "},inplace=True)\n",
        "print(data.head())"
      ],
      "execution_count": null,
      "outputs": [
        {
          "output_type": "stream",
          "text": [
            "   0                  1       2           3   ...  11  12              13 14\n",
            "0  50   Self-emp-not-inc   83311   Bachelors  ...   0  13   United-States  0\n",
            "1  38            Private  215646     HS-grad  ...   0  40   United-States  0\n",
            "2  53            Private  234721        11th  ...   0  40   United-States  0\n",
            "3  28            Private  338409   Bachelors  ...   0  40            Cuba  0\n",
            "4  37            Private  284582     Masters  ...   0  40   United-States  0\n",
            "\n",
            "[5 rows x 15 columns]\n"
          ],
          "name": "stdout"
        }
      ]
    },
    {
      "cell_type": "markdown",
      "metadata": {
        "id": "2rOZmI8T8os0"
      },
      "source": [
        "encoding using sklearn LabelEncoder (string to numeric)"
      ]
    },
    {
      "cell_type": "code",
      "metadata": {
        "colab": {
          "base_uri": "https://localhost:8080/"
        },
        "id": "CErbGWeC8psn",
        "outputId": "bfef024a-adc1-4774-eb65-43266240888f"
      },
      "source": [
        "transform_needed = [False, True, False, True, False, True, True, True, True, True, False, False, False, True, False]\n",
        "encoded_data = np.zeros(shape=(data.shape[0], data.shape[1]), dtype=np.int)\n",
        "for i in range(len(transform_needed)):\n",
        "    if transform_needed[i]:\n",
        "        tmp_data = data.iloc[:, i].tolist()\n",
        "        encoder = sklearn.preprocessing.LabelEncoder()\n",
        "        encoder.fit(tmp_data)\n",
        "        encoded_data[:, i] = encoder.transform(tmp_data)\n",
        "    else:\n",
        "        encoded_data[:, i] = data.iloc[:, i].tolist()\n",
        "print(encoded_data)"
      ],
      "execution_count": null,
      "outputs": [
        {
          "output_type": "stream",
          "text": [
            "[[    50      6  83311 ...     13     39      0]\n",
            " [    38      4 215646 ...     40     39      0]\n",
            " [    53      4 234721 ...     40     39      0]\n",
            " ...\n",
            " [    38      4 374983 ...     50     39      0]\n",
            " [    44      4  83891 ...     40     39      0]\n",
            " [    35      5 182148 ...     60     39      1]]\n"
          ],
          "name": "stdout"
        }
      ]
    },
    {
      "cell_type": "markdown",
      "metadata": {
        "id": "uqMCABr-BI_o"
      },
      "source": [
        "encoded data X and y"
      ]
    },
    {
      "cell_type": "code",
      "metadata": {
        "colab": {
          "base_uri": "https://localhost:8080/"
        },
        "id": "9T1eo99J8sTE",
        "outputId": "142d8715-b13e-4810-802c-7ec84ec0344d"
      },
      "source": [
        "X = encoded_data[:,:14]\n",
        "y = encoded_data[:,14]\n",
        "print(X)"
      ],
      "execution_count": null,
      "outputs": [
        {
          "output_type": "stream",
          "text": [
            "[[    50      6  83311 ...      0     13     39]\n",
            " [    38      4 215646 ...      0     40     39]\n",
            " [    53      4 234721 ...      0     40     39]\n",
            " ...\n",
            " [    38      4 374983 ...      0     50     39]\n",
            " [    44      4  83891 ...      0     40     39]\n",
            " [    35      5 182148 ...      0     60     39]]\n"
          ],
          "name": "stdout"
        }
      ]
    },
    {
      "cell_type": "markdown",
      "metadata": {
        "id": "_VpEegnN80iQ"
      },
      "source": [
        "encoded data split into train 80%, test 20%"
      ]
    },
    {
      "cell_type": "code",
      "metadata": {
        "colab": {
          "base_uri": "https://localhost:8080/"
        },
        "id": "sgB1Dfoz82Mf",
        "outputId": "e653ecba-87f4-4659-df5d-6b013a435440"
      },
      "source": [
        "X_train, X_test, y_train, y_test = sklearn.model_selection.train_test_split(X, y, test_size=0.2)\n",
        "print(\"total data size:\",X.shape, \"train data size:\",X_train.shape, \"test data size:\",X_test.shape)\n"
      ],
      "execution_count": null,
      "outputs": [
        {
          "output_type": "stream",
          "text": [
            "total data size: (48841, 14) train data size: (39072, 14) test data size: (9769, 14)\n"
          ],
          "name": "stdout"
        }
      ]
    },
    {
      "cell_type": "markdown",
      "metadata": {
        "id": "x2mm9oYABVbW"
      },
      "source": [
        "## Model comparison"
      ]
    },
    {
      "cell_type": "code",
      "metadata": {
        "colab": {
          "base_uri": "https://localhost:8080/"
        },
        "id": "5cPvSHs79Cjh",
        "outputId": "2a814a0e-3860-43ae-904b-9db1fc320463"
      },
      "source": [
        "# Model. Logistic Regression\n",
        "model = sklearn.linear_model.LogisticRegression()\n",
        "model.fit(X_train, y_train)\n",
        "y_pred = model.predict(X_test)\n",
        "test_acc = sklearn.metrics.accuracy_score(y_test, y_pred)\n",
        "print(\"Logistic Regression:\",test_acc)\n",
        "\n",
        "# Model. Random Forest\n",
        "model = sklearn.ensemble.RandomForestClassifier()\n",
        "model.fit(X_train, y_train)\n",
        "y_pred = model.predict(X_test)\n",
        "test_acc = sklearn.metrics.accuracy_score(y_test, y_pred)\n",
        "print(\"Random Forest:\",test_acc)\n",
        "\n",
        "# Model. Neural Network\n",
        "model = sklearn.neural_network.MLPClassifier()\n",
        "model.fit(X_train, y_train)\n",
        "y_pred = model.predict(X_test)\n",
        "test_acc = sklearn.metrics.accuracy_score(y_test, y_pred)\n",
        "print(\"Neural Network:\",test_acc)\n",
        "\n",
        "# Model. Naive Bayes\n",
        "model = sklearn.naive_bayes.GaussianNB()\n",
        "model.fit(X_train, y_train)\n",
        "y_pred = model.predict(X_test)\n",
        "test_acc = sklearn.metrics.accuracy_score(y_test, y_pred)\n",
        "print(\"Gaussian NB:\",test_acc)\n",
        "\n",
        "# Model. Decision Tree\n",
        "model = sklearn.tree.DecisionTreeClassifier()\n",
        "model.fit(X_train, y_train)\n",
        "y_pred = model.predict(X_test)\n",
        "test_acc = sklearn.metrics.accuracy_score(y_test, y_pred)\n",
        "print(\"Decision Tree Classifier:\",test_acc)\n",
        "\n",
        "# Model. SVM\n",
        "model = sklearn.svm.SVC()\n",
        "model.fit(X_train, y_train)\n",
        "y_pred = model.predict(X_test)\n",
        "test_acc = sklearn.metrics.accuracy_score(y_test, y_pred)\n",
        "print(\"SVM:\",test_acc)"
      ],
      "execution_count": null,
      "outputs": [
        {
          "output_type": "stream",
          "text": [
            "Logistic Regression: 0.7871839492271471\n",
            "Random Forest: 0.8582249974408844\n"
          ],
          "name": "stdout"
        },
        {
          "output_type": "stream",
          "text": [
            "/usr/local/lib/python3.7/dist-packages/sklearn/neural_network/_multilayer_perceptron.py:571: ConvergenceWarning: Stochastic Optimizer: Maximum iterations (200) reached and the optimization hasn't converged yet.\n",
            "  % self.max_iter, ConvergenceWarning)\n"
          ],
          "name": "stderr"
        },
        {
          "output_type": "stream",
          "text": [
            "Neural Network: 0.569249667314976\n",
            "Gaussian NB: 0.7918927218753199\n",
            "Decision Tree Classifier: 0.8121609171870202\n",
            "SVM: 0.7951683898044836\n"
          ],
          "name": "stdout"
        }
      ]
    }
  ]
}