{
  "nbformat": 4,
  "nbformat_minor": 0,
  "metadata": {
    "colab": {
      "name": "Iris classification.ipynb",
      "provenance": [],
      "collapsed_sections": [],
      "toc_visible": true,
      "authorship_tag": "ABX9TyNjFg36Rt654gQJAXW+y3zw",
      "include_colab_link": true
    },
    "kernelspec": {
      "name": "python3",
      "display_name": "Python 3"
    },
    "language_info": {
      "name": "python"
    }
  },
  "cells": [
    {
      "cell_type": "markdown",
      "metadata": {
        "id": "view-in-github",
        "colab_type": "text"
      },
      "source": [
        "<a href=\"https://colab.research.google.com/github/woodstone10/data-intelligence-lab/blob/main/Iris_classification.ipynb\" target=\"_parent\"><img src=\"https://colab.research.google.com/assets/colab-badge.svg\" alt=\"Open In Colab\"/></a>"
      ]
    },
    {
      "cell_type": "markdown",
      "metadata": {
        "id": "tuPXDDb6rKJN"
      },
      "source": [
        "# Iris classification\n",
        "\n",
        "---\n",
        "\n",
        "- **Logistic Regression** \n",
        "   : some regression algorithms can be used for classifica‐\n",
        "   tion as well (and vice versa). Logistic Regression (also called Logit Regression) is com‐\n",
        "   monly used to estimate the probability that an instance belongs to a particular class\n",
        "\n",
        "- **Binary classifiers**\n",
        "   If the estimated probability is\n",
        "   greater than 50%, then the model predicts that the instance belongs to that class\n",
        "   (called the positive class, labeled “1”), or else it predicts that it does not (i.e., it\n",
        "   belongs to the negative class, labeled “0”). This makes it a binary classifier.\n",
        "   Just like a Linear Regression model, a Logistic Regression\n",
        "   model computes a weighted sum of the input features (plus a bias term), but instead\n",
        "   of outputting the result directly like the Linear Regression model does, it outputs the\n",
        "   logistic of this result\n",
        "   Logistic Regression model prediction\n",
        "   \n",
        "   y = 0 if p < 0 . 5, \n",
        "     1 if p ≥ 0 . 5\n",
        "\n",
        "- **Softmax Regression** (Multinomial Logistic Regression)\n",
        "   : The Logistic Regression model can be generalized to support multiple classes directly,\n",
        "   without having to train and combine multiple binary classifiers.\n",
        "   This is called Softmax Regression, or Multinomial Logistic Regression.\n",
        "   Let’s use Softmax Regression to classify the iris flowers into all three classes.\n",
        "   Scikit Learn’s LogisticRegression uses one-versus-all by default when you train it on more\n",
        "   than two classes, but you can set the multi_class hyperparameter to \"multinomial\"\n",
        "   to switch it to Softmax Regression instead. You must also specify a solver that sup‐\n",
        "   ports Softmax Regression, such as the \"lbfgs\" solver (see Scikit-Learn’s documenta‐\n",
        "   tion for more details). It also applies ℓ2 regularization by default, which you can\n",
        "   control using the hyperparameter C."
      ]
    },
    {
      "cell_type": "code",
      "metadata": {
        "id": "7_5os2KyrL36"
      },
      "source": [
        "import numpy as np\n",
        "import matplotlib.pyplot as plt\n",
        "import sklearn.datasets\n",
        "import sklearn.linear_model\n",
        "from sklearn.model_selection import train_test_split"
      ],
      "execution_count": null,
      "outputs": []
    },
    {
      "cell_type": "markdown",
      "metadata": {
        "id": "c_uESA8e15Se"
      },
      "source": [
        "Let’s use the iris dataset to illustrate Logistic Regression. This is a famous dataset that contains the sepal and petal length and width of 150 iris flowers of three different species: Iris-Setosa, Iris-Versicolor, and Iris-Virginica\n",
        "\n",
        "['data', 'target', 'frame', 'target_names', 'DESCR', 'feature_names', 'filename']\n",
        "1. sepal length in cm\n",
        "2. sepal width in cm\n",
        "3. petal length in cm\n",
        "4. petal width in cm\n",
        "5. class: Iris_flowers = [\"Iris Setosa\", \"Iris Versicolour\", \"Iris Virginica\"]"
      ]
    },
    {
      "cell_type": "code",
      "metadata": {
        "id": "Sdk5bUbJrAvF",
        "colab": {
          "base_uri": "https://localhost:8080/"
        },
        "outputId": "8b0a1e4b-487e-4be4-d82c-56cf9821fb08"
      },
      "source": [
        "iris = sklearn.datasets.load_iris()\n",
        "print(list(iris.keys()))"
      ],
      "execution_count": null,
      "outputs": [
        {
          "output_type": "stream",
          "text": [
            "['data', 'target', 'target_names', 'DESCR', 'feature_names', 'filename']\n"
          ],
          "name": "stdout"
        }
      ]
    },
    {
      "cell_type": "code",
      "metadata": {
        "id": "tcUUA_OKrdZz"
      },
      "source": [
        "X = iris[\"data\"][:, 3:] # petal width\n",
        "y = (iris[\"target\"] == 2).astype(np.int) #Binary classifiers: 1 if Iris-Virginica (2), else 0\n",
        "X_train, X_test, y_train, y_test = train_test_split(X, y, test_size=0.2)"
      ],
      "execution_count": null,
      "outputs": []
    },
    {
      "cell_type": "code",
      "metadata": {
        "colab": {
          "base_uri": "https://localhost:8080/"
        },
        "id": "P9hTd7Qi2qZJ",
        "outputId": "cd4eb8ef-0272-487b-c2ec-e0c9f135a183"
      },
      "source": [
        "print(X_train.shape, y_train.shape)\n",
        "print(iris[\"target\"])\n",
        "print(y_train)"
      ],
      "execution_count": null,
      "outputs": [
        {
          "output_type": "stream",
          "text": [
            "(120, 1) (120,)\n",
            "[0 0 0 0 0 0 0 0 0 0 0 0 0 0 0 0 0 0 0 0 0 0 0 0 0 0 0 0 0 0 0 0 0 0 0 0 0\n",
            " 0 0 0 0 0 0 0 0 0 0 0 0 0 1 1 1 1 1 1 1 1 1 1 1 1 1 1 1 1 1 1 1 1 1 1 1 1\n",
            " 1 1 1 1 1 1 1 1 1 1 1 1 1 1 1 1 1 1 1 1 1 1 1 1 1 1 2 2 2 2 2 2 2 2 2 2 2\n",
            " 2 2 2 2 2 2 2 2 2 2 2 2 2 2 2 2 2 2 2 2 2 2 2 2 2 2 2 2 2 2 2 2 2 2 2 2 2\n",
            " 2 2]\n",
            "[1 0 0 0 0 0 0 1 0 0 1 0 1 0 0 1 1 0 0 0 0 0 0 0 0 0 0 0 0 0 0 1 1 0 1 0 1\n",
            " 0 0 0 1 0 0 0 0 0 0 1 0 0 0 0 0 1 0 1 1 1 0 1 0 1 0 0 0 1 0 1 1 1 1 1 0 0\n",
            " 0 0 1 1 0 0 0 0 0 1 1 1 0 0 0 0 1 1 0 1 0 1 0 0 0 0 1 0 0 0 1 0 1 0 1 0 0\n",
            " 0 1 0 0 0 0 0 0 0]\n"
          ],
          "name": "stdout"
        }
      ]
    },
    {
      "cell_type": "markdown",
      "metadata": {
        "id": "Bxk84UzF2OuL"
      },
      "source": [
        "## Classification with Logistic Regression (Simple Binary classifiers)"
      ]
    },
    {
      "cell_type": "markdown",
      "metadata": {
        "id": "nNcwZAJ123El"
      },
      "source": [
        "The petal width of Iris-Virginica flowers (represented by triangles) ranges from 1.4 cm to 2.5 cm"
      ]
    },
    {
      "cell_type": "code",
      "metadata": {
        "id": "Dy75AIXZrffi",
        "colab": {
          "base_uri": "https://localhost:8080/"
        },
        "outputId": "c9982ddf-cae6-4a90-d350-bc18bb223ee2"
      },
      "source": [
        "model = sklearn.linear_model.LogisticRegression()\n",
        "model.fit(X_train, y_train)"
      ],
      "execution_count": null,
      "outputs": [
        {
          "output_type": "execute_result",
          "data": {
            "text/plain": [
              "LogisticRegression(C=1.0, class_weight=None, dual=False, fit_intercept=True,\n",
              "                   intercept_scaling=1, l1_ratio=None, max_iter=100,\n",
              "                   multi_class='auto', n_jobs=None, penalty='l2',\n",
              "                   random_state=None, solver='lbfgs', tol=0.0001, verbose=0,\n",
              "                   warm_start=False)"
            ]
          },
          "metadata": {
            "tags": []
          },
          "execution_count": 6
        }
      ]
    },
    {
      "cell_type": "code",
      "metadata": {
        "colab": {
          "base_uri": "https://localhost:8080/",
          "height": 310
        },
        "id": "2rUU9dpUaJX3",
        "outputId": "9ec9582c-521b-48de-aea3-48d069c43d02"
      },
      "source": [
        "X_test = np.linspace(0, 3, 1000).reshape(-1, 1)\n",
        "y_prob = model.predict_proba(X_test) # 1 if Iris-Virginica, else 0\n",
        "plt.plot(X_test, y_prob[:, 1], \"g-\", label=\"Iris-Virginica\")\n",
        "plt.plot(X_test, y_prob[:, 0], \"b--\", label=\"Not Iris-Virginica\")\n",
        "plt.title(\"Estimated probabilities and decision boundary \\n Logistic Regression\")\n",
        "plt.xlabel(\"Pedal width (cm)\")\n",
        "plt.ylabel(\"Probability\")\n",
        "plt.legend()\n",
        "plt.show()"
      ],
      "execution_count": null,
      "outputs": [
        {
          "output_type": "display_data",
          "data": {
            "image/png": "[encoded data removed]",
            "text/plain": [
              "<Figure size 432x288 with 1 Axes>"
            ]
          },
          "metadata": {
            "tags": [],
            "needs_background": "light"
          }
        }
      ]
    },
    {
      "cell_type": "markdown",
      "metadata": {
        "id": "AgC3wWgwaw-E"
      },
      "source": [
        "## Classification with Softmax Regression (Multinomial Logistic Regression)"
      ]
    },
    {
      "cell_type": "code",
      "metadata": {
        "id": "iLiMofO8bCqg"
      },
      "source": [
        "X = iris[\"data\"][:, (2, 3)] # petal length, petal width\n",
        "y = iris[\"target\"] # classfy 3 classes [\"Iris Setosa\", \"Iris Versicolour\", \"Iris Virginica\"]\n",
        "X_train, X_test, y_train, y_test = train_test_split(X, y, test_size=0.2)"
      ],
      "execution_count": null,
      "outputs": []
    },
    {
      "cell_type": "code",
      "metadata": {
        "id": "8RrEMiLerlzv",
        "colab": {
          "base_uri": "https://localhost:8080/"
        },
        "outputId": "57e57843-d571-418d-b010-7fcf28113f4a"
      },
      "source": [
        "model = sklearn.linear_model.LogisticRegression(multi_class=\"multinomial\",solver=\"lbfgs\", C=10)\n",
        "model.fit(X_train, y_train)"
      ],
      "execution_count": null,
      "outputs": [
        {
          "output_type": "execute_result",
          "data": {
            "text/plain": [
              "LogisticRegression(C=10, class_weight=None, dual=False, fit_intercept=True,\n",
              "                   intercept_scaling=1, l1_ratio=None, max_iter=100,\n",
              "                   multi_class='multinomial', n_jobs=None, penalty='l2',\n",
              "                   random_state=None, solver='lbfgs', tol=0.0001, verbose=0,\n",
              "                   warm_start=False)"
            ]
          },
          "metadata": {
            "tags": []
          },
          "execution_count": 10
        }
      ]
    },
    {
      "cell_type": "markdown",
      "metadata": {
        "id": "vBG0MP5FBGjG"
      },
      "source": [
        "So the next time you find an iris with 5 cm long and 2 cm wide petals, you can ask\n",
        "your model to tell you what type of iris it is, and it will answer Iris-Virginica (class 2)\n",
        "with 94.2% probability (or Iris-Versicolor with 5.8% probability):"
      ]
    },
    {
      "cell_type": "code",
      "metadata": {
        "id": "R_OVgSOrbGPz"
      },
      "source": [
        "y_prob = model.predict_proba(X_test)"
      ],
      "execution_count": null,
      "outputs": []
    },
    {
      "cell_type": "code",
      "metadata": {
        "colab": {
          "base_uri": "https://localhost:8080/",
          "height": 295
        },
        "id": "PaPygJT5bJNI",
        "outputId": "c2ad02da-0867-42c4-d31e-104b93079808"
      },
      "source": [
        "x_min, x_max = X_test[:, 0].min() - .5, X_test[:, 0].max() + .5\n",
        "y_min, y_max = X_test[:, 1].min() - .5, X_test[:, 1].max() + .5\n",
        "xx, yy = np.meshgrid(np.arange(x_min, x_max, 0.02), np.arange(y_min, y_max, 0.02))\n",
        "Z = model.predict(np.c_[xx.ravel(), yy.ravel()])\n",
        "Z = Z.reshape(xx.shape)\n",
        "plt.pcolormesh(xx, yy, Z, cmap=plt.cm.Paired)\n",
        "plt.scatter(X_test[:,0], X_test[:,1], c=y_prob, cmap=plt.cm.Paired)\n",
        "plt.title(\"Softmax Regression decision boundaries\")\n",
        "plt.xlabel(\"Pedal length (cm)\")\n",
        "plt.ylabel(\"Pedal width (cm)\")\n",
        "plt.show()"
      ],
      "execution_count": null,
      "outputs": [
        {
          "output_type": "display_data",
          "data": {
            "image/png": "[encoded data removed]",
            "text/plain": [
              "<Figure size 432x288 with 1 Axes>"
            ]
          },
          "metadata": {
            "tags": [],
            "needs_background": "light"
          }
        }
      ]
    }
  ]
}