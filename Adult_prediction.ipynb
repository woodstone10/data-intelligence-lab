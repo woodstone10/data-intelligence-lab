{
  "nbformat": 4,
  "nbformat_minor": 0,
  "metadata": {
    "colab": {
      "name": "Adult prediction.ipynb",
      "provenance": [],
      "collapsed_sections": [],
      "authorship_tag": "ABX9TyPDP/Eq/VU0cN9vKigUsOLN",
      "include_colab_link": true
    },
    "kernelspec": {
      "name": "python3",
      "display_name": "Python 3"
    },
    "language_info": {
      "name": "python"
    }
  },
  "cells": [
    {
      "cell_type": "markdown",
      "metadata": {
        "id": "view-in-github",
        "colab_type": "text"
      },
      "source": [
        "<a href=\"https://colab.research.google.com/github/woodstone10/data-intelligence-lab/blob/main/Adult_prediction.ipynb\" target=\"_parent\"><img src=\"https://colab.research.google.com/assets/colab-badge.svg\" alt=\"Open In Colab\"/></a>"
      ]
    },
    {
      "cell_type": "markdown",
      "metadata": {
        "id": "-JUTiQ503RN3"
      },
      "source": [
        "# Practice) Adult Predicttion whether income exceeds 50K dollars per year based on census data. \n",
        "\n",
        "---\n",
        "\n",
        "Also known as \"Census Income\" dataset.\n"
      ]
    },
    {
      "cell_type": "code",
      "metadata": {
        "id": "iQ8X_PruBww2"
      },
      "source": [
        "import numpy as np\n",
        "import pandas as pd\n",
        "import matplotlib.pyplot as plt\n",
        "import tensorflow as tf\n",
        "import sklearn.model_selection\n",
        "import sklearn.preprocessing\n",
        "import sklearn.metrics\n",
        "import sklearn.linear_model\n",
        "import sklearn.ensemble\n",
        "import sklearn.neural_network\n",
        "import sklearn.naive_bayes\n",
        "import sklearn.tree\n",
        "import sklearn.svm"
      ],
      "execution_count": null,
      "outputs": []
    },
    {
      "cell_type": "markdown",
      "metadata": {
        "id": "oFPwmUAp3ezG"
      },
      "source": [
        " Data set from UCI Machine Learning Repository\n",
        "  - https://archive.ics.uci.edu/ml/machine-learning-databases/adult/\n",
        "\n",
        " Listing of attributes:\n",
        " 1. age: continuous.\n",
        " 2. workclass: Private, Self-emp-not-inc, Self-emp-inc, Federal-gov, Local-gov,\n",
        "       State-gov, Without-pay, Never-worked.\n",
        " 3. fnlwgt: continuous.\n",
        " 4. education: Bachelors, Some-college, 11th, HS-grad, Prof-school, Assoc-acdm, Assoc-voc,\n",
        "       9th, 7th-8th, 12th, Masters, 1st-4th, 10th, Doctorate, 5th-6th, Preschool.\n",
        " 5. education-num: continuous.\n",
        " 6. marital-status: Married-civ-spouse, Divorced, Never-married, Separated, Widowed,\n",
        "       Married-spouse-absent, Married-AF-spouse.\n",
        " 7. occupation: Tech-support, Craft-repair, Other-service, Sales, Exec-managerial,\n",
        "       Prof-specialty, Handlers-cleaners, Machine-op-inspct, Adm-clerical, Farming-fishing, Transport-moving,\n",
        "       Priv-house-serv, Protective-serv, Armed-Forces.\n",
        " 8. relationship: Wife, Own-child, Husband, Not-in-family, Other-relative, Unmarried.\n",
        " 9. race: White, Asian-Pac-Islander, Amer-Indian-Eskimo, Other, Black.\n",
        " 10. sex: Female, Male.\n",
        " 11. capital-gain: continuous.\n",
        " 12. capital-loss: continuous.\n",
        " 13. hours-per-week: continuous.\n",
        " 14. native-country: United-States, Cambodia, England, Puerto-Rico,\n",
        "       Canada, Germany, Outlying-US(Guam-USVI-etc), India, Japan, Greece, South, China, Cuba, Iran, Honduras,\n",
        "       Philippines, Italy, Poland, Jamaica, Vietnam, Mexico, Portugal, Ireland, France, Dominican-Republic,\n",
        "       Laos, Ecuador, Taiwan, Haiti, Columbia, Hungary, Guatemala, Nicaragua, Scotland, Thailand, Yugoslavia,\n",
        "       El-Salvador, Trinadad&Tobago, Peru, Hong, Holand-Netherlands."
      ]
    },
    {
      "cell_type": "code",
      "metadata": {
        "colab": {
          "base_uri": "https://localhost:8080/"
        },
        "id": "SGhUIpg-PhpE",
        "outputId": "d95d8c53-e551-477c-db01-c233498d7b32"
      },
      "source": [
        "# dataset from github (UCI)\n",
        "#a = pd.read_csv('https://raw.githubusercontent.com/woodstone10/dataset/main/adult.data', error_bad_lines=False)\n",
        "a = pd.read_csv('https://raw.githubusercontent.com/woodstone10/dataset/main/adult.data', sep= ',', header= None,skiprows=1)\n",
        "b = pd.read_csv('https://raw.githubusercontent.com/woodstone10/dataset/main/adult.test', sep= ',', header= None,skiprows=1)\n",
        "df = pd.concat([a, b])\n",
        "print(df.head())"
      ],
      "execution_count": null,
      "outputs": [
        {
          "output_type": "stream",
          "text": [
            "   0                  1       2           3   ...  11  12              13      14\n",
            "0  50   Self-emp-not-inc   83311   Bachelors  ...   0  13   United-States   <=50K\n",
            "1  38            Private  215646     HS-grad  ...   0  40   United-States   <=50K\n",
            "2  53            Private  234721        11th  ...   0  40   United-States   <=50K\n",
            "3  28            Private  338409   Bachelors  ...   0  40            Cuba   <=50K\n",
            "4  37            Private  284582     Masters  ...   0  40   United-States   <=50K\n",
            "\n",
            "[5 rows x 15 columns]\n"
          ],
          "name": "stdout"
        }
      ]
    },
    {
      "cell_type": "code",
      "metadata": {
        "colab": {
          "base_uri": "https://localhost:8080/"
        },
        "id": "JBy3OMdBT8Yh",
        "outputId": "902b2def-1d86-4ea7-c381-24ec8340d463"
      },
      "source": [
        "data = df\n",
        "data.replace({\n",
        "    ' <=50K':0,\n",
        "    ' <=50K.':0,\n",
        "    ' >50K':1,\n",
        "    ' >50K.':1,\n",
        "},inplace=True)\n",
        "print(data.head())\n"
      ],
      "execution_count": null,
      "outputs": [
        {
          "output_type": "stream",
          "text": [
            "   0                  1       2           3   ...  11  12              13 14\n",
            "0  50   Self-emp-not-inc   83311   Bachelors  ...   0  13   United-States  0\n",
            "1  38            Private  215646     HS-grad  ...   0  40   United-States  0\n",
            "2  53            Private  234721        11th  ...   0  40   United-States  0\n",
            "3  28            Private  338409   Bachelors  ...   0  40            Cuba  0\n",
            "4  37            Private  284582     Masters  ...   0  40   United-States  0\n",
            "\n",
            "[5 rows x 15 columns]\n"
          ],
          "name": "stdout"
        }
      ]
    },
    {
      "cell_type": "code",
      "metadata": {
        "colab": {
          "base_uri": "https://localhost:8080/"
        },
        "id": "uLwnyGxUFTYu",
        "outputId": "244dab62-5d49-4c1b-d5f7-8fc91ad4d356"
      },
      "source": [
        "# encoding using sklearn LabelEncoder (string to numeric)\n",
        "transform_needed = [False, True, False, True, False, True, True, True, True, True, False, False, False, True, False]\n",
        "encoded_data = np.zeros(shape=(data.shape[0], data.shape[1]), dtype=np.int)\n",
        "for i in range(len(transform_needed)):\n",
        "    if transform_needed[i]:\n",
        "        tmp_data = data.iloc[:, i].tolist()\n",
        "        encoder = sklearn.preprocessing.LabelEncoder()\n",
        "        encoder.fit(tmp_data)\n",
        "        encoded_data[:, i] = encoder.transform(tmp_data)\n",
        "    else:\n",
        "        encoded_data[:, i] = data.iloc[:, i].tolist()\n",
        "print(encoded_data)\n"
      ],
      "execution_count": null,
      "outputs": [
        {
          "output_type": "stream",
          "text": [
            "[[    50      6  83311 ...     13     39      0]\n",
            " [    38      4 215646 ...     40     39      0]\n",
            " [    53      4 234721 ...     40     39      0]\n",
            " ...\n",
            " [    38      4 374983 ...     50     39      0]\n",
            " [    44      4  83891 ...     40     39      0]\n",
            " [    35      5 182148 ...     60     39      1]]\n"
          ],
          "name": "stdout"
        }
      ]
    },
    {
      "cell_type": "code",
      "metadata": {
        "colab": {
          "base_uri": "https://localhost:8080/"
        },
        "id": "wfYI0spzG6Cd",
        "outputId": "b26dea9c-e21f-432b-c59a-4015f7317975"
      },
      "source": [
        "# encoded data X and y\n",
        "X = encoded_data[:,:14]\n",
        "y = encoded_data[:,14]\n",
        "print(X)"
      ],
      "execution_count": null,
      "outputs": [
        {
          "output_type": "stream",
          "text": [
            "[[    50      6  83311 ...      0     13     39]\n",
            " [    38      4 215646 ...      0     40     39]\n",
            " [    53      4 234721 ...      0     40     39]\n",
            " ...\n",
            " [    38      4 374983 ...      0     50     39]\n",
            " [    44      4  83891 ...      0     40     39]\n",
            " [    35      5 182148 ...      0     60     39]]\n"
          ],
          "name": "stdout"
        }
      ]
    },
    {
      "cell_type": "code",
      "metadata": {
        "colab": {
          "base_uri": "https://localhost:8080/"
        },
        "id": "zLWuHhcbG8pb",
        "outputId": "36d32012-6758-4b40-bd52-36559f10c243"
      },
      "source": [
        "# encoded data split into train 80%, test 20%\n",
        "X_train, X_test, y_train, y_test = sklearn.model_selection.train_test_split(X, y, test_size=0.2)\n",
        "print(\"total data size:\",X.shape, \"train data size:\",X_train.shape, \"test data size:\",X_test.shape)\n"
      ],
      "execution_count": null,
      "outputs": [
        {
          "output_type": "stream",
          "text": [
            "total data size: (48841, 14) train data size: (39072, 14) test data size: (9769, 14)\n"
          ],
          "name": "stdout"
        }
      ]
    },
    {
      "cell_type": "code",
      "metadata": {
        "colab": {
          "base_uri": "https://localhost:8080/"
        },
        "id": "o5FwjHybHCyS",
        "outputId": "485ff2ad-3ca6-4ca7-df85-435fba0077f9"
      },
      "source": [
        "# ------------------------------------------------------------------\n",
        "# Model. Artificial Neural Network Deep Learning using Keras high-level API\n",
        "# ------------------------------------------------------------------\n",
        "model = tf.keras.Sequential([\n",
        "        tf.keras.layers.Flatten(input_shape=X_train[1].shape),\n",
        "        #tf.keras.layers.Dropout(0.3), # for reduce overfitting\n",
        "        tf.keras.layers.Dense(300, activation='relu'),\n",
        "        #tf.keras.layers.Dropout(0.3), # for reduce overfitting\n",
        "        tf.keras.layers.Dense(100, activation='relu'),\n",
        "        #tf.keras.layers.Dropout(0.3), # for reduce overfitting\n",
        "        tf.keras.layers.Dense(10, activation='relu'),\n",
        "        tf.keras.layers.Dense(1, activation='sigmoid') # output is 1 or o, so sigmoid function is used\n",
        "])\n",
        "\n",
        "model.compile(\n",
        "    optimizer=tf.keras.optimizers.Adam(lr=0.001, beta_1=0.9, beta_2=0.999),\n",
        "    loss=tf.keras.losses.binary_crossentropy, # prediction is 1 or 0, so binary_crossentropy is selected.\n",
        "    metrics=['accuracy']\n",
        ")\n",
        "\n",
        "history = model.fit(X_train, y_train,\n",
        "                    validation_split=0.3, # train data split into train 70%, validation 30%\n",
        "                    epochs=30,\n",
        "                    verbose=1 # online display with progressbar\n",
        "                    )"
      ],
      "execution_count": null,
      "outputs": [
        {
          "output_type": "stream",
          "text": [
            "Epoch 1/30\n",
            "855/855 [==============================] - 3s 3ms/step - loss: 267.6727 - accuracy: 0.7110 - val_loss: 0.5861 - val_accuracy: 0.7613\n",
            "Epoch 2/30\n",
            "855/855 [==============================] - 2s 2ms/step - loss: 0.5742 - accuracy: 0.7618 - val_loss: 0.5536 - val_accuracy: 0.7620\n",
            "Epoch 3/30\n",
            "855/855 [==============================] - 2s 2ms/step - loss: 0.5517 - accuracy: 0.7621 - val_loss: 0.5463 - val_accuracy: 0.7638\n",
            "Epoch 4/30\n",
            "855/855 [==============================] - 2s 2ms/step - loss: 0.5557 - accuracy: 0.7602 - val_loss: 0.5484 - val_accuracy: 0.7620\n",
            "Epoch 5/30\n",
            "855/855 [==============================] - 2s 2ms/step - loss: 0.5471 - accuracy: 0.7630 - val_loss: 0.5473 - val_accuracy: 0.7628\n",
            "Epoch 6/30\n",
            "855/855 [==============================] - 2s 2ms/step - loss: 0.5481 - accuracy: 0.7622 - val_loss: 0.5616 - val_accuracy: 0.7610\n",
            "Epoch 7/30\n",
            "855/855 [==============================] - 2s 2ms/step - loss: 0.6862 - accuracy: 0.7588 - val_loss: 0.5498 - val_accuracy: 0.7610\n",
            "Epoch 8/30\n",
            "855/855 [==============================] - 2s 2ms/step - loss: 0.5570 - accuracy: 0.7548 - val_loss: 0.5498 - val_accuracy: 0.7610\n",
            "Epoch 9/30\n",
            "855/855 [==============================] - 2s 2ms/step - loss: 0.5580 - accuracy: 0.7540 - val_loss: 0.5498 - val_accuracy: 0.7610\n",
            "Epoch 10/30\n",
            "855/855 [==============================] - 2s 2ms/step - loss: 0.5496 - accuracy: 0.7613 - val_loss: 0.5498 - val_accuracy: 0.7610\n",
            "Epoch 11/30\n",
            "855/855 [==============================] - 2s 2ms/step - loss: 0.5563 - accuracy: 0.7555 - val_loss: 0.5498 - val_accuracy: 0.7610\n",
            "Epoch 12/30\n",
            "855/855 [==============================] - 2s 2ms/step - loss: 0.5515 - accuracy: 0.7596 - val_loss: 0.5498 - val_accuracy: 0.7610\n",
            "Epoch 13/30\n",
            "855/855 [==============================] - 2s 3ms/step - loss: 0.5518 - accuracy: 0.7594 - val_loss: 0.5498 - val_accuracy: 0.7610\n",
            "Epoch 14/30\n",
            "855/855 [==============================] - 2s 2ms/step - loss: 0.5569 - accuracy: 0.7550 - val_loss: 0.5498 - val_accuracy: 0.7610\n",
            "Epoch 15/30\n",
            "855/855 [==============================] - 2s 2ms/step - loss: 0.5481 - accuracy: 0.7626 - val_loss: 0.5498 - val_accuracy: 0.7610\n",
            "Epoch 16/30\n",
            "855/855 [==============================] - 2s 2ms/step - loss: 0.5507 - accuracy: 0.7603 - val_loss: 0.5498 - val_accuracy: 0.7610\n",
            "Epoch 17/30\n",
            "855/855 [==============================] - 2s 2ms/step - loss: 0.5535 - accuracy: 0.7579 - val_loss: 0.5498 - val_accuracy: 0.7610\n",
            "Epoch 18/30\n",
            "855/855 [==============================] - 2s 2ms/step - loss: 0.5494 - accuracy: 0.7614 - val_loss: 0.5498 - val_accuracy: 0.7610\n",
            "Epoch 19/30\n",
            "855/855 [==============================] - 2s 2ms/step - loss: 0.5492 - accuracy: 0.7616 - val_loss: 0.5498 - val_accuracy: 0.7610\n",
            "Epoch 20/30\n",
            "855/855 [==============================] - 2s 2ms/step - loss: 0.5571 - accuracy: 0.7547 - val_loss: 0.5498 - val_accuracy: 0.7610\n",
            "Epoch 21/30\n",
            "855/855 [==============================] - 2s 2ms/step - loss: 0.5475 - accuracy: 0.7630 - val_loss: 0.5498 - val_accuracy: 0.7610\n",
            "Epoch 22/30\n",
            "855/855 [==============================] - 2s 2ms/step - loss: 0.5508 - accuracy: 0.7603 - val_loss: 0.5498 - val_accuracy: 0.7610\n",
            "Epoch 23/30\n",
            "855/855 [==============================] - 2s 2ms/step - loss: 0.5496 - accuracy: 0.7612 - val_loss: 0.5498 - val_accuracy: 0.7610\n",
            "Epoch 24/30\n",
            "855/855 [==============================] - 2s 2ms/step - loss: 0.5520 - accuracy: 0.7592 - val_loss: 0.5498 - val_accuracy: 0.7610\n",
            "Epoch 25/30\n",
            "855/855 [==============================] - 2s 2ms/step - loss: 0.5487 - accuracy: 0.7620 - val_loss: 0.5498 - val_accuracy: 0.7610\n",
            "Epoch 26/30\n",
            "855/855 [==============================] - 2s 2ms/step - loss: 0.5527 - accuracy: 0.7586 - val_loss: 0.5498 - val_accuracy: 0.7610\n",
            "Epoch 27/30\n",
            "855/855 [==============================] - 2s 2ms/step - loss: 0.5513 - accuracy: 0.7598 - val_loss: 0.5498 - val_accuracy: 0.7610\n",
            "Epoch 28/30\n",
            "855/855 [==============================] - 2s 2ms/step - loss: 0.5457 - accuracy: 0.7646 - val_loss: 0.5498 - val_accuracy: 0.7610\n",
            "Epoch 29/30\n",
            "855/855 [==============================] - 2s 2ms/step - loss: 0.5526 - accuracy: 0.7587 - val_loss: 0.5498 - val_accuracy: 0.7610\n",
            "Epoch 30/30\n",
            "855/855 [==============================] - 2s 2ms/step - loss: 0.5535 - accuracy: 0.7579 - val_loss: 0.5498 - val_accuracy: 0.7610\n"
          ],
          "name": "stdout"
        }
      ]
    },
    {
      "cell_type": "code",
      "metadata": {
        "colab": {
          "base_uri": "https://localhost:8080/"
        },
        "id": "OvDtVLAEaZrE",
        "outputId": "20f11fa0-0010-491a-a67a-89f35ad7e6cd"
      },
      "source": [
        "model.summary()"
      ],
      "execution_count": null,
      "outputs": [
        {
          "output_type": "stream",
          "text": [
            "Model: \"sequential_6\"\n",
            "_________________________________________________________________\n",
            "Layer (type)                 Output Shape              Param #   \n",
            "=================================================================\n",
            "flatten_3 (Flatten)          (None, 14)                0         \n",
            "_________________________________________________________________\n",
            "dense_22 (Dense)             (None, 300)               4500      \n",
            "_________________________________________________________________\n",
            "dense_23 (Dense)             (None, 100)               30100     \n",
            "_________________________________________________________________\n",
            "dense_24 (Dense)             (None, 10)                1010      \n",
            "_________________________________________________________________\n",
            "dense_25 (Dense)             (None, 1)                 11        \n",
            "=================================================================\n",
            "Total params: 35,621\n",
            "Trainable params: 35,621\n",
            "Non-trainable params: 0\n",
            "_________________________________________________________________\n"
          ],
          "name": "stdout"
        }
      ]
    },
    {
      "cell_type": "code",
      "metadata": {
        "id": "F8keZlfI-DAf",
        "colab": {
          "base_uri": "https://localhost:8080/",
          "height": 163
        },
        "outputId": "1096cff8-f8f9-4eab-d51c-fcc258e7d90e"
      },
      "source": [
        "tf.keras.utils.plot_model(model, show_shapes=True)"
      ],
      "execution_count": null,
      "outputs": [
        {
          "output_type": "error",
          "ename": "NameError",
          "evalue": "ignored",
          "traceback": [
            "\u001b[0;31m---------------------------------------------------------------------------\u001b[0m",
            "\u001b[0;31mNameError\u001b[0m                                 Traceback (most recent call last)",
            "\u001b[0;32m<ipython-input-1-058cedd21ceb>\u001b[0m in \u001b[0;36m<module>\u001b[0;34m()\u001b[0m\n\u001b[0;32m----> 1\u001b[0;31m \u001b[0mtf\u001b[0m\u001b[0;34m.\u001b[0m\u001b[0mkeras\u001b[0m\u001b[0;34m.\u001b[0m\u001b[0mutils\u001b[0m\u001b[0;34m.\u001b[0m\u001b[0mplot_model\u001b[0m\u001b[0;34m(\u001b[0m\u001b[0mmodel\u001b[0m\u001b[0;34m,\u001b[0m \u001b[0mshow_shapes\u001b[0m\u001b[0;34m=\u001b[0m\u001b[0;32mTrue\u001b[0m\u001b[0;34m)\u001b[0m\u001b[0;34m\u001b[0m\u001b[0;34m\u001b[0m\u001b[0m\n\u001b[0m",
            "\u001b[0;31mNameError\u001b[0m: name 'tf' is not defined"
          ]
        }
      ]
    },
    {
      "cell_type": "code",
      "metadata": {
        "colab": {
          "base_uri": "https://localhost:8080/",
          "height": 324
        },
        "id": "q1NdToJlYgcV",
        "outputId": "e9e3cfd3-e966-48df-d1ac-76d0efe97d15"
      },
      "source": [
        "# Learning curve (loss and accuracy)\n",
        "pd.DataFrame(history.history).plot(figsize=(8,5))\n",
        "plt.grid()\n",
        "plt.gca().set_ylim(0,1)\n",
        "plt.show()"
      ],
      "execution_count": null,
      "outputs": [
        {
          "output_type": "display_data",
          "data": {
            "image/png": "[encoded data removed]",
            "text/plain": [
              "<Figure size 576x360 with 1 Axes>"
            ]
          },
          "metadata": {
            "tags": [],
            "needs_background": "light"
          }
        }
      ]
    },
    {
      "cell_type": "code",
      "metadata": {
        "colab": {
          "base_uri": "https://localhost:8080/"
        },
        "id": "wI9Wp0CfcjmK",
        "outputId": "38a4804c-fc9c-4464-918e-093eff4384f7"
      },
      "source": [
        "model.evaluate(X_test, y_test)"
      ],
      "execution_count": null,
      "outputs": [
        {
          "output_type": "stream",
          "text": [
            "306/306 [==============================] - 0s 1ms/step - loss: 0.5481 - accuracy: 0.7625\n"
          ],
          "name": "stdout"
        },
        {
          "output_type": "execute_result",
          "data": {
            "text/plain": [
              "[0.5481369495391846, 0.762514054775238]"
            ]
          },
          "metadata": {
            "tags": []
          },
          "execution_count": 24
        }
      ]
    },
    {
      "cell_type": "code",
      "metadata": {
        "colab": {
          "base_uri": "https://localhost:8080/"
        },
        "id": "E4fNCIrpp6h2",
        "outputId": "abe9534c-104d-44d6-cdcd-d75d768b87d2"
      },
      "source": [
        "print(y_test[:20])\n",
        "y_proba = model.predict(X_test[:20])\n",
        "y_proba.round(2)"
      ],
      "execution_count": null,
      "outputs": [
        {
          "output_type": "stream",
          "text": [
            "[0 1 0 0 0 0 0 0 0 0 0 1 0 0 0 0 0 0 0 0]\n"
          ],
          "name": "stdout"
        },
        {
          "output_type": "execute_result",
          "data": {
            "text/plain": [
              "array([[0.24],\n",
              "       [0.24],\n",
              "       [0.24],\n",
              "       [0.24],\n",
              "       [0.24],\n",
              "       [0.24],\n",
              "       [0.24],\n",
              "       [0.24],\n",
              "       [0.24],\n",
              "       [0.24],\n",
              "       [0.24],\n",
              "       [0.24],\n",
              "       [0.24],\n",
              "       [0.24],\n",
              "       [0.24],\n",
              "       [0.24],\n",
              "       [0.24],\n",
              "       [0.24],\n",
              "       [0.24],\n",
              "       [0.24]], dtype=float32)"
            ]
          },
          "metadata": {
            "tags": []
          },
          "execution_count": 34
        }
      ]
    },
    {
      "cell_type": "code",
      "metadata": {
        "colab": {
          "base_uri": "https://localhost:8080/"
        },
        "id": "329oeokFrK4w",
        "outputId": "f02e79d5-91d6-4821-cc1f-7c4c7d080df4"
      },
      "source": [
        "y_pred = model.predict_classes(X_test[:20])\n",
        "y_pred"
      ],
      "execution_count": null,
      "outputs": [
        {
          "output_type": "stream",
          "text": [
            "/usr/local/lib/python3.7/dist-packages/tensorflow/python/keras/engine/sequential.py:450: UserWarning: `model.predict_classes()` is deprecated and will be removed after 2021-01-01. Please use instead:* `np.argmax(model.predict(x), axis=-1)`,   if your model does multi-class classification   (e.g. if it uses a `softmax` last-layer activation).* `(model.predict(x) > 0.5).astype(\"int32\")`,   if your model does binary classification   (e.g. if it uses a `sigmoid` last-layer activation).\n",
            "  warnings.warn('`model.predict_classes()` is deprecated and '\n"
          ],
          "name": "stderr"
        },
        {
          "output_type": "execute_result",
          "data": {
            "text/plain": [
              "array([[0],\n",
              "       [0],\n",
              "       [0],\n",
              "       [0],\n",
              "       [0],\n",
              "       [0],\n",
              "       [0],\n",
              "       [0],\n",
              "       [0],\n",
              "       [0],\n",
              "       [0],\n",
              "       [0],\n",
              "       [0],\n",
              "       [0],\n",
              "       [0],\n",
              "       [0],\n",
              "       [0],\n",
              "       [0],\n",
              "       [0],\n",
              "       [0]], dtype=int32)"
            ]
          },
          "metadata": {
            "tags": []
          },
          "execution_count": 35
        }
      ]
    },
    {
      "cell_type": "markdown",
      "metadata": {
        "id": "ep0X5Ajss8C7"
      },
      "source": [
        "Loss and accuracy are not good enough. I have tried change number of layers and neuron, but accuracy is under 80%. Will keep try to find a way to improve performance.\n",
        "\n",
        "Add Batch Normalization before and after hidden layers"
      ]
    },
    {
      "cell_type": "code",
      "metadata": {
        "colab": {
          "base_uri": "https://localhost:8080/"
        },
        "id": "SI89hMH7u2gy",
        "outputId": "cf5860f4-e812-4d12-cf3c-f1a7a0068db8"
      },
      "source": [
        "# ------------------------------------------------------------------\n",
        "# Model. Implementing Batch Normalizaiton\n",
        "# ------------------------------------------------------------------\n",
        "model = tf.keras.Sequential([\n",
        "        tf.keras.layers.Flatten(input_shape=X_train[1].shape),        \n",
        "        #tf.keras.layers.Dropout(0.3), # for reduce overfitting\n",
        "        tf.keras.layers.BatchNormalization(),\n",
        "        tf.keras.layers.Dense(300, activation='relu'),\n",
        "        #tf.keras.layers.Dropout(0.3), # for reduce overfitting\n",
        "        tf.keras.layers.BatchNormalization(),\n",
        "        tf.keras.layers.Dense(100, activation='relu'),\n",
        "        #tf.keras.layers.Dropout(0.3), # for reduce overfitting\n",
        "        tf.keras.layers.BatchNormalization(),\n",
        "        tf.keras.layers.Dense(10, activation='relu'),\n",
        "        tf.keras.layers.BatchNormalization(),\n",
        "        tf.keras.layers.Dense(1, activation='sigmoid') # output is 1 or o, so sigmoid function is used\n",
        "])\n",
        "\n",
        "model.compile(\n",
        "    optimizer=tf.keras.optimizers.Adam(lr=0.001, beta_1=0.9, beta_2=0.999),\n",
        "    loss=tf.keras.losses.binary_crossentropy, # prediction is 1 or 0, so binary_crossentropy is selected.\n",
        "    metrics=['accuracy']\n",
        ")\n",
        "\n",
        "history = model.fit(X_train, y_train,\n",
        "                    validation_split=0.3, # train data split into train 70%, validation 30%\n",
        "                    epochs=30,\n",
        "                    verbose=1 # online display with progressbar\n",
        "                    )"
      ],
      "execution_count": null,
      "outputs": [
        {
          "output_type": "stream",
          "text": [
            "Epoch 1/30\n",
            "855/855 [==============================] - 4s 3ms/step - loss: 0.4542 - accuracy: 0.7987 - val_loss: 0.3471 - val_accuracy: 0.8377\n",
            "Epoch 2/30\n",
            "855/855 [==============================] - 3s 3ms/step - loss: 0.3452 - accuracy: 0.8385 - val_loss: 0.3381 - val_accuracy: 0.8395\n",
            "Epoch 3/30\n",
            "855/855 [==============================] - 3s 3ms/step - loss: 0.3396 - accuracy: 0.8425 - val_loss: 0.3361 - val_accuracy: 0.8393\n",
            "Epoch 4/30\n",
            "855/855 [==============================] - 3s 3ms/step - loss: 0.3432 - accuracy: 0.8403 - val_loss: 0.3338 - val_accuracy: 0.8421\n",
            "Epoch 5/30\n",
            "855/855 [==============================] - 3s 3ms/step - loss: 0.3393 - accuracy: 0.8404 - val_loss: 0.3333 - val_accuracy: 0.8418\n",
            "Epoch 6/30\n",
            "855/855 [==============================] - 3s 3ms/step - loss: 0.3420 - accuracy: 0.8397 - val_loss: 0.3335 - val_accuracy: 0.8428\n",
            "Epoch 7/30\n",
            "855/855 [==============================] - 3s 3ms/step - loss: 0.3387 - accuracy: 0.8442 - val_loss: 0.3330 - val_accuracy: 0.8407\n",
            "Epoch 8/30\n",
            "855/855 [==============================] - 3s 3ms/step - loss: 0.3384 - accuracy: 0.8393 - val_loss: 0.3344 - val_accuracy: 0.8414\n",
            "Epoch 9/30\n",
            "855/855 [==============================] - 3s 3ms/step - loss: 0.3344 - accuracy: 0.8413 - val_loss: 0.3360 - val_accuracy: 0.8398\n",
            "Epoch 10/30\n",
            "855/855 [==============================] - 3s 4ms/step - loss: 0.3354 - accuracy: 0.8471 - val_loss: 0.3367 - val_accuracy: 0.8383\n",
            "Epoch 11/30\n",
            "855/855 [==============================] - 3s 3ms/step - loss: 0.3257 - accuracy: 0.8449 - val_loss: 0.3362 - val_accuracy: 0.8397\n",
            "Epoch 12/30\n",
            "855/855 [==============================] - 3s 3ms/step - loss: 0.3336 - accuracy: 0.8419 - val_loss: 0.3355 - val_accuracy: 0.8391\n",
            "Epoch 13/30\n",
            "855/855 [==============================] - 3s 3ms/step - loss: 0.3313 - accuracy: 0.8434 - val_loss: 0.3367 - val_accuracy: 0.8408\n",
            "Epoch 14/30\n",
            "855/855 [==============================] - 3s 3ms/step - loss: 0.3315 - accuracy: 0.8420 - val_loss: 0.3343 - val_accuracy: 0.8383\n",
            "Epoch 15/30\n",
            "855/855 [==============================] - 3s 3ms/step - loss: 0.3292 - accuracy: 0.8467 - val_loss: 0.3383 - val_accuracy: 0.8387\n",
            "Epoch 16/30\n",
            "855/855 [==============================] - 3s 3ms/step - loss: 0.3311 - accuracy: 0.8408 - val_loss: 0.3410 - val_accuracy: 0.8388\n",
            "Epoch 17/30\n",
            "855/855 [==============================] - 3s 3ms/step - loss: 0.3197 - accuracy: 0.8490 - val_loss: 0.3371 - val_accuracy: 0.8380\n",
            "Epoch 18/30\n",
            "855/855 [==============================] - 3s 4ms/step - loss: 0.3203 - accuracy: 0.8501 - val_loss: 0.3338 - val_accuracy: 0.8423\n",
            "Epoch 19/30\n",
            "855/855 [==============================] - 3s 3ms/step - loss: 0.3237 - accuracy: 0.8503 - val_loss: 0.3428 - val_accuracy: 0.8360\n",
            "Epoch 20/30\n",
            "855/855 [==============================] - 3s 3ms/step - loss: 0.3232 - accuracy: 0.8482 - val_loss: 0.3388 - val_accuracy: 0.8376\n",
            "Epoch 21/30\n",
            "855/855 [==============================] - 3s 3ms/step - loss: 0.3207 - accuracy: 0.8507 - val_loss: 0.3401 - val_accuracy: 0.8382\n",
            "Epoch 22/30\n",
            "855/855 [==============================] - 3s 4ms/step - loss: 0.3277 - accuracy: 0.8482 - val_loss: 0.3395 - val_accuracy: 0.8395\n",
            "Epoch 23/30\n",
            "855/855 [==============================] - 3s 4ms/step - loss: 0.3248 - accuracy: 0.8481 - val_loss: 0.3397 - val_accuracy: 0.8372\n",
            "Epoch 24/30\n",
            "855/855 [==============================] - 3s 3ms/step - loss: 0.3205 - accuracy: 0.8509 - val_loss: 0.3422 - val_accuracy: 0.8375\n",
            "Epoch 25/30\n",
            "855/855 [==============================] - 3s 4ms/step - loss: 0.3204 - accuracy: 0.8478 - val_loss: 0.3418 - val_accuracy: 0.8377\n",
            "Epoch 26/30\n",
            "855/855 [==============================] - 3s 3ms/step - loss: 0.3215 - accuracy: 0.8507 - val_loss: 0.3375 - val_accuracy: 0.8383\n",
            "Epoch 27/30\n",
            "855/855 [==============================] - 3s 3ms/step - loss: 0.3210 - accuracy: 0.8499 - val_loss: 0.3377 - val_accuracy: 0.8389\n",
            "Epoch 28/30\n",
            "855/855 [==============================] - 3s 3ms/step - loss: 0.3174 - accuracy: 0.8509 - val_loss: 0.3419 - val_accuracy: 0.8387\n",
            "Epoch 29/30\n",
            "855/855 [==============================] - 3s 3ms/step - loss: 0.3194 - accuracy: 0.8497 - val_loss: 0.3393 - val_accuracy: 0.8382\n",
            "Epoch 30/30\n",
            "855/855 [==============================] - 3s 3ms/step - loss: 0.3162 - accuracy: 0.8524 - val_loss: 0.3411 - val_accuracy: 0.8358\n"
          ],
          "name": "stdout"
        }
      ]
    },
    {
      "cell_type": "markdown",
      "metadata": {
        "id": "LzXsASBwvn64"
      },
      "source": [
        "Improved performance by batch normalization."
      ]
    },
    {
      "cell_type": "code",
      "metadata": {
        "colab": {
          "base_uri": "https://localhost:8080/"
        },
        "id": "YMQ1g7Vvv7FS",
        "outputId": "4180da3b-234b-4cea-9270-066d32023e29"
      },
      "source": [
        "model.summary()"
      ],
      "execution_count": null,
      "outputs": [
        {
          "output_type": "stream",
          "text": [
            "Model: \"sequential_7\"\n",
            "_________________________________________________________________\n",
            "Layer (type)                 Output Shape              Param #   \n",
            "=================================================================\n",
            "flatten_4 (Flatten)          (None, 14)                0         \n",
            "_________________________________________________________________\n",
            "batch_normalization (BatchNo (None, 14)                56        \n",
            "_________________________________________________________________\n",
            "dense_26 (Dense)             (None, 300)               4500      \n",
            "_________________________________________________________________\n",
            "batch_normalization_1 (Batch (None, 300)               1200      \n",
            "_________________________________________________________________\n",
            "dense_27 (Dense)             (None, 100)               30100     \n",
            "_________________________________________________________________\n",
            "batch_normalization_2 (Batch (None, 100)               400       \n",
            "_________________________________________________________________\n",
            "dense_28 (Dense)             (None, 10)                1010      \n",
            "_________________________________________________________________\n",
            "batch_normalization_3 (Batch (None, 10)                40        \n",
            "_________________________________________________________________\n",
            "dense_29 (Dense)             (None, 1)                 11        \n",
            "=================================================================\n",
            "Total params: 37,317\n",
            "Trainable params: 36,469\n",
            "Non-trainable params: 848\n",
            "_________________________________________________________________\n"
          ],
          "name": "stdout"
        }
      ]
    },
    {
      "cell_type": "code",
      "metadata": {
        "colab": {
          "base_uri": "https://localhost:8080/",
          "height": 324
        },
        "id": "IpuWY5Usv_xk",
        "outputId": "53c6122b-f3e3-4394-ec45-d5c23706666d"
      },
      "source": [
        "# Learning curve (loss and accuracy)\n",
        "pd.DataFrame(history.history).plot(figsize=(8,5))\n",
        "plt.grid()\n",
        "plt.gca().set_ylim(0,1)\n",
        "plt.show()"
      ],
      "execution_count": null,
      "outputs": [
        {
          "output_type": "display_data",
          "data": {
            "image/png": "[encoded data removed]",
            "text/plain": [
              "<Figure size 576x360 with 1 Axes>"
            ]
          },
          "metadata": {
            "tags": [],
            "needs_background": "light"
          }
        }
      ]
    },
    {
      "cell_type": "markdown",
      "metadata": {
        "id": "Guck99fKxNlA"
      },
      "source": [
        "it's great improvement by batch normalization"
      ]
    }
  ]
}