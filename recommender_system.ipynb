{
  "nbformat": 4,
  "nbformat_minor": 0,
  "metadata": {
    "colab": {
      "name": "recommender system.ipynb",
      "provenance": [],
      "collapsed_sections": [],
      "toc_visible": true,
      "authorship_tag": "ABX9TyMNKUArYao74eWeNoq8kQxi",
      "include_colab_link": true
    },
    "kernelspec": {
      "name": "python3",
      "display_name": "Python 3"
    },
    "language_info": {
      "name": "python"
    }
  },
  "cells": [
    {
      "cell_type": "markdown",
      "metadata": {
        "id": "view-in-github",
        "colab_type": "text"
      },
      "source": [
        "<a href=\"https://colab.research.google.com/github/woodstone10/data-intelligence-lab/blob/main/recommender_system.ipynb\" target=\"_parent\"><img src=\"https://colab.research.google.com/assets/colab-badge.svg\" alt=\"Open In Colab\"/></a>"
      ]
    },
    {
      "cell_type": "markdown",
      "metadata": {
        "id": "gZ5Jxjw5yRbB"
      },
      "source": [
        "# Practice) Recommender System\n",
        "\n",
        "---\n",
        "Basically, two methods\n",
        "- content-based filtering\n",
        "- collaborative filtering"
      ]
    },
    {
      "cell_type": "markdown",
      "metadata": {
        "id": "_1_Cy3kyzFaD"
      },
      "source": [
        "## Surprise\n",
        "\n",
        "Surprise is a Python scikit specialized for recommender systems. It provides built-in public datasets, ready-to-deploy CF algorithms, and evaluation metrics.\n",
        "\n",
        "https://github.com/NicolasHug/Surprise\n",
        "\n",
        "https://buomsoo-kim.github.io/recommender%20systems/2020/07/18/Recommender-systems-collab-filtering-3.md/"
      ]
    },
    {
      "cell_type": "code",
      "metadata": {
        "colab": {
          "base_uri": "https://localhost:8080/"
        },
        "id": "ipeD1TzXyMlJ",
        "outputId": "aa595ba6-7ab1-4aed-b2d3-f7d90c425c9d"
      },
      "source": [
        "!pip install scikit-surprise"
      ],
      "execution_count": null,
      "outputs": [
        {
          "output_type": "stream",
          "text": [
            "Collecting scikit-surprise\n",
            "\u001b[?25l  Downloading https://files.pythonhosted.org/packages/97/37/5d334adaf5ddd65da99fc65f6507e0e4599d092ba048f4302fe8775619e8/scikit-surprise-1.1.1.tar.gz (11.8MB)\n",
            "\u001b[K     |████████████████████████████████| 11.8MB 9.0MB/s \n",
            "\u001b[?25hRequirement already satisfied: joblib>=0.11 in /usr/local/lib/python3.7/dist-packages (from scikit-surprise) (1.0.1)\n",
            "Requirement already satisfied: numpy>=1.11.2 in /usr/local/lib/python3.7/dist-packages (from scikit-surprise) (1.19.5)\n",
            "Requirement already satisfied: scipy>=1.0.0 in /usr/local/lib/python3.7/dist-packages (from scikit-surprise) (1.4.1)\n",
            "Requirement already satisfied: six>=1.10.0 in /usr/local/lib/python3.7/dist-packages (from scikit-surprise) (1.15.0)\n",
            "Building wheels for collected packages: scikit-surprise\n",
            "  Building wheel for scikit-surprise (setup.py) ... \u001b[?25l\u001b[?25hdone\n",
            "  Created wheel for scikit-surprise: filename=scikit_surprise-1.1.1-cp37-cp37m-linux_x86_64.whl size=1617595 sha256=c0c28103cd1634308cf1edaab9649d8d5740615a9abdc646c5021dccba892aea\n",
            "  Stored in directory: /root/.cache/pip/wheels/78/9c/3d/41b419c9d2aff5b6e2b4c0fc8d25c538202834058f9ed110d0\n",
            "Successfully built scikit-surprise\n",
            "Installing collected packages: scikit-surprise\n",
            "Successfully installed scikit-surprise-1.1.1\n"
          ],
          "name": "stdout"
        }
      ]
    },
    {
      "cell_type": "code",
      "metadata": {
        "colab": {
          "base_uri": "https://localhost:8080/"
        },
        "id": "XraAJqk-zkz6",
        "outputId": "38bddfbe-b2db-4cfa-895c-d4e4c69e854e"
      },
      "source": [
        "from surprise import Dataset\n",
        "data = Dataset.load_builtin('ml-100k')\n",
        "data"
      ],
      "execution_count": null,
      "outputs": [
        {
          "output_type": "stream",
          "text": [
            "Dataset ml-100k could not be found. Do you want to download it? [Y/n] Y\n",
            "Trying to download dataset from http://files.grouplens.org/datasets/movielens/ml-100k.zip...\n",
            "Done! Dataset ml-100k has been saved to /root/.surprise_data/ml-100k\n"
          ],
          "name": "stdout"
        },
        {
          "output_type": "execute_result",
          "data": {
            "text/plain": [
              "<surprise.dataset.DatasetAutoFolds at 0x7f51e47127d0>"
            ]
          },
          "metadata": {
            "tags": []
          },
          "execution_count": 2
        }
      ]
    },
    {
      "cell_type": "code",
      "metadata": {
        "colab": {
          "base_uri": "https://localhost:8080/"
        },
        "id": "M92gqiO-0wCb",
        "outputId": "523ea120-4f19-44e6-93d8-25083b6aa2b6"
      },
      "source": [
        "from surprise import SVD\n",
        "from surprise.model_selection import cross_validate\n",
        "model = SVD()\n",
        "cross_validate(model, data, measures=['rmse', 'mae'], cv=5, verbose=True)"
      ],
      "execution_count": null,
      "outputs": [
        {
          "output_type": "stream",
          "text": [
            "Evaluating RMSE, MAE of algorithm SVD on 5 split(s).\n",
            "\n",
            "                  Fold 1  Fold 2  Fold 3  Fold 4  Fold 5  Mean    Std     \n",
            "RMSE (testset)    0.9342  0.9359  0.9426  0.9307  0.9447  0.9376  0.0052  \n",
            "MAE (testset)     0.7375  0.7390  0.7422  0.7362  0.7427  0.7395  0.0025  \n",
            "Fit time          4.78    4.78    4.77    4.74    4.76    4.76    0.01    \n",
            "Test time         0.16    0.23    0.25    0.16    0.25    0.21    0.04    \n"
          ],
          "name": "stdout"
        },
        {
          "output_type": "execute_result",
          "data": {
            "text/plain": [
              "{'fit_time': (4.776701211929321,\n",
              "  4.775567054748535,\n",
              "  4.76923942565918,\n",
              "  4.7420783042907715,\n",
              "  4.757455825805664),\n",
              " 'test_mae': array([0.73749981, 0.73898726, 0.7421708 , 0.73623997, 0.74265612]),\n",
              " 'test_rmse': array([0.93418039, 0.93586584, 0.94257887, 0.93068124, 0.94469146]),\n",
              " 'test_time': (0.16248083114624023,\n",
              "  0.22858285903930664,\n",
              "  0.25378847122192383,\n",
              "  0.1648731231689453,\n",
              "  0.25452303886413574)}"
            ]
          },
          "metadata": {
            "tags": []
          },
          "execution_count": 3
        }
      ]
    },
    {
      "cell_type": "markdown",
      "metadata": {
        "id": "Uz9VIXqfb9K0"
      },
      "source": [
        "## Data analysis\n",
        "\n",
        "---\n",
        "The first two elements in each instance refer to the user ID and joke ID, respectively. The third element shows ratings and I honestly don’t know about the fourth element\n"
      ]
    },
    {
      "cell_type": "code",
      "metadata": {
        "colab": {
          "base_uri": "https://localhost:8080/"
        },
        "id": "uPxK0X710hBV",
        "outputId": "f36f71c1-24e8-482d-c00e-31d94bcbc7cc"
      },
      "source": [
        "data.raw_ratings[:10]"
      ],
      "execution_count": null,
      "outputs": [
        {
          "output_type": "execute_result",
          "data": {
            "text/plain": [
              "[('196', '242', 3.0, '881250949'),\n",
              " ('186', '302', 3.0, '891717742'),\n",
              " ('22', '377', 1.0, '878887116'),\n",
              " ('244', '51', 2.0, '880606923'),\n",
              " ('166', '346', 1.0, '886397596'),\n",
              " ('298', '474', 4.0, '884182806'),\n",
              " ('115', '265', 2.0, '881171488'),\n",
              " ('253', '465', 5.0, '891628467'),\n",
              " ('305', '451', 3.0, '886324817'),\n",
              " ('6', '86', 3.0, '883603013')]"
            ]
          },
          "metadata": {
            "tags": []
          },
          "execution_count": 4
        }
      ]
    },
    {
      "cell_type": "code",
      "metadata": {
        "colab": {
          "base_uri": "https://localhost:8080/"
        },
        "id": "BmsO0T5pbIZx",
        "outputId": "c45e8361-6062-406f-f39a-bfab190511b8"
      },
      "source": [
        "len(data.raw_ratings)"
      ],
      "execution_count": null,
      "outputs": [
        {
          "output_type": "execute_result",
          "data": {
            "text/plain": [
              "100000"
            ]
          },
          "metadata": {
            "tags": []
          },
          "execution_count": 5
        }
      ]
    },
    {
      "cell_type": "code",
      "metadata": {
        "id": "OEADuHzWT8Qn"
      },
      "source": [
        "import numpy as np\n",
        "raw_data = np.array(data.raw_ratings, dtype=int)"
      ],
      "execution_count": null,
      "outputs": []
    },
    {
      "cell_type": "code",
      "metadata": {
        "colab": {
          "base_uri": "https://localhost:8080/"
        },
        "id": "gtSZJEL8apIe",
        "outputId": "15a353f2-0ea5-4cf5-ae11-d7ae39093108"
      },
      "source": [
        "user_ids, item_ids, ratings = [],[],[]\n",
        "for i in range(len(raw_data)):\n",
        "  user_id = int(raw_data[i,0])\n",
        "  item_id = int(raw_data[i,1])\n",
        "  rating = int(raw_data[i,2])\n",
        "  user_ids.append(user_id)\n",
        "  item_ids.append(item_id)\n",
        "  ratings.append(rating)\n",
        "print(len(user_ids))\n",
        "print(len(item_ids))\n",
        "print(len(ratings))"
      ],
      "execution_count": null,
      "outputs": [
        {
          "output_type": "stream",
          "text": [
            "100000\n",
            "100000\n",
            "100000\n"
          ],
          "name": "stdout"
        }
      ]
    },
    {
      "cell_type": "code",
      "metadata": {
        "colab": {
          "base_uri": "https://localhost:8080/",
          "height": 419
        },
        "id": "VJjSGgbKbqV7",
        "outputId": "53aa3876-3062-491f-f739-9af00128ac63"
      },
      "source": [
        "import pandas as pd\n",
        "df = pd.DataFrame({'user':user_ids,\n",
        "                   'item':item_ids,\n",
        "                   'rating':ratings})\n",
        "df"
      ],
      "execution_count": null,
      "outputs": [
        {
          "output_type": "execute_result",
          "data": {
            "text/html": [
              "<div>\n",
              "<style scoped>\n",
              "    .dataframe tbody tr th:only-of-type {\n",
              "        vertical-align: middle;\n",
              "    }\n",
              "\n",
              "    .dataframe tbody tr th {\n",
              "        vertical-align: top;\n",
              "    }\n",
              "\n",
              "    .dataframe thead th {\n",
              "        text-align: right;\n",
              "    }\n",
              "</style>\n",
              "<table border=\"1\" class=\"dataframe\">\n",
              "  <thead>\n",
              "    <tr style=\"text-align: right;\">\n",
              "      <th></th>\n",
              "      <th>user</th>\n",
              "      <th>item</th>\n",
              "      <th>rating</th>\n",
              "    </tr>\n",
              "  </thead>\n",
              "  <tbody>\n",
              "    <tr>\n",
              "      <th>0</th>\n",
              "      <td>196</td>\n",
              "      <td>242</td>\n",
              "      <td>3</td>\n",
              "    </tr>\n",
              "    <tr>\n",
              "      <th>1</th>\n",
              "      <td>186</td>\n",
              "      <td>302</td>\n",
              "      <td>3</td>\n",
              "    </tr>\n",
              "    <tr>\n",
              "      <th>2</th>\n",
              "      <td>22</td>\n",
              "      <td>377</td>\n",
              "      <td>1</td>\n",
              "    </tr>\n",
              "    <tr>\n",
              "      <th>3</th>\n",
              "      <td>244</td>\n",
              "      <td>51</td>\n",
              "      <td>2</td>\n",
              "    </tr>\n",
              "    <tr>\n",
              "      <th>4</th>\n",
              "      <td>166</td>\n",
              "      <td>346</td>\n",
              "      <td>1</td>\n",
              "    </tr>\n",
              "    <tr>\n",
              "      <th>...</th>\n",
              "      <td>...</td>\n",
              "      <td>...</td>\n",
              "      <td>...</td>\n",
              "    </tr>\n",
              "    <tr>\n",
              "      <th>99995</th>\n",
              "      <td>880</td>\n",
              "      <td>476</td>\n",
              "      <td>3</td>\n",
              "    </tr>\n",
              "    <tr>\n",
              "      <th>99996</th>\n",
              "      <td>716</td>\n",
              "      <td>204</td>\n",
              "      <td>5</td>\n",
              "    </tr>\n",
              "    <tr>\n",
              "      <th>99997</th>\n",
              "      <td>276</td>\n",
              "      <td>1090</td>\n",
              "      <td>1</td>\n",
              "    </tr>\n",
              "    <tr>\n",
              "      <th>99998</th>\n",
              "      <td>13</td>\n",
              "      <td>225</td>\n",
              "      <td>2</td>\n",
              "    </tr>\n",
              "    <tr>\n",
              "      <th>99999</th>\n",
              "      <td>12</td>\n",
              "      <td>203</td>\n",
              "      <td>3</td>\n",
              "    </tr>\n",
              "  </tbody>\n",
              "</table>\n",
              "<p>100000 rows × 3 columns</p>\n",
              "</div>"
            ],
            "text/plain": [
              "       user  item  rating\n",
              "0       196   242       3\n",
              "1       186   302       3\n",
              "2        22   377       1\n",
              "3       244    51       2\n",
              "4       166   346       1\n",
              "...     ...   ...     ...\n",
              "99995   880   476       3\n",
              "99996   716   204       5\n",
              "99997   276  1090       1\n",
              "99998    13   225       2\n",
              "99999    12   203       3\n",
              "\n",
              "[100000 rows x 3 columns]"
            ]
          },
          "metadata": {
            "tags": []
          },
          "execution_count": 12
        }
      ]
    },
    {
      "cell_type": "code",
      "metadata": {
        "colab": {
          "base_uri": "https://localhost:8080/",
          "height": 333
        },
        "id": "jLBYs90xfPJV",
        "outputId": "00766f69-dc12-43f4-f799-d6070c48318f"
      },
      "source": [
        "import matplotlib.pyplot as plt\n",
        "plt.hist(df['rating'])"
      ],
      "execution_count": null,
      "outputs": [
        {
          "output_type": "execute_result",
          "data": {
            "text/plain": [
              "(array([ 6110.,     0., 11370.,     0.,     0., 27145.,     0., 34174.,\n",
              "            0., 21201.]),\n",
              " array([1. , 1.4, 1.8, 2.2, 2.6, 3. , 3.4, 3.8, 4.2, 4.6, 5. ]),\n",
              " <a list of 10 Patch objects>)"
            ]
          },
          "metadata": {
            "tags": []
          },
          "execution_count": 13
        },
        {
          "output_type": "display_data",
          "data": {
            "image/png": "[encoded data removed]",
            "text/plain": [
              "<Figure size 432x288 with 1 Axes>"
            ]
          },
          "metadata": {
            "tags": [],
            "needs_background": "light"
          }
        }
      ]
    },
    {
      "cell_type": "markdown",
      "metadata": {
        "id": "J-ur9CRO4jwD"
      },
      "source": [
        "## Content-based Filtering\n",
        "\n",
        "---\n",
        "\n",
        "Based on user (customer) history and feedback, calculate similarity"
      ]
    },
    {
      "cell_type": "code",
      "metadata": {
        "id": "XUZQk9654RdU"
      },
      "source": [
        "import numpy as np\n",
        "from surprise import Dataset\n",
        "data = Dataset.load_builtin('ml-100k')\n",
        "raw_data = np.array(data.raw_ratings, dtype=int)"
      ],
      "execution_count": null,
      "outputs": []
    },
    {
      "cell_type": "code",
      "metadata": {
        "id": "qwhKQ8Xk5BQk"
      },
      "source": [
        "raw_data[:,0] -= 1\n",
        "raw_data[:,1] -= 1"
      ],
      "execution_count": null,
      "outputs": []
    },
    {
      "cell_type": "code",
      "metadata": {
        "colab": {
          "base_uri": "https://localhost:8080/"
        },
        "id": "N1GfdV7Y5eKF",
        "outputId": "4609c5b9-aef2-47c1-b376-5f6c47e75286"
      },
      "source": [
        "n_users = np.max(raw_data[:,0])\n",
        "n_movies = np.max(raw_data[:,1])\n",
        "shape = (n_users + 1, n_movies + 1)\n",
        "shape"
      ],
      "execution_count": null,
      "outputs": [
        {
          "output_type": "execute_result",
          "data": {
            "text/plain": [
              "(943, 1682)"
            ]
          },
          "metadata": {
            "tags": []
          },
          "execution_count": 16
        }
      ]
    },
    {
      "cell_type": "markdown",
      "metadata": {
        "id": "cPV_QDVP73Ct"
      },
      "source": [
        "### Adjacent matrix"
      ]
    },
    {
      "cell_type": "code",
      "metadata": {
        "colab": {
          "base_uri": "https://localhost:8080/"
        },
        "id": "c_ouWhys5sBs",
        "outputId": "6c57a34d-300a-4cf8-8f15-6bbe33eb89f7"
      },
      "source": [
        "adj_matrix = np.ndarray(shape, dtype=int)\n",
        "for user_id, movie_id, rating, time in raw_data:\n",
        "  adj_matrix[user_id][movie_id] = 1.\n",
        "adj_matrix"
      ],
      "execution_count": null,
      "outputs": [
        {
          "output_type": "execute_result",
          "data": {
            "text/plain": [
              "array([[1, 1, 1, ..., 0, 0, 0],\n",
              "       [1, 0, 0, ..., 0, 0, 0],\n",
              "       [0, 0, 0, ..., 0, 0, 0],\n",
              "       ...,\n",
              "       [1, 0, 0, ..., 0, 0, 0],\n",
              "       [0, 0, 0, ..., 0, 0, 0],\n",
              "       [0, 1, 0, ..., 0, 0, 0]])"
            ]
          },
          "metadata": {
            "tags": []
          },
          "execution_count": 17
        }
      ]
    },
    {
      "cell_type": "code",
      "metadata": {
        "colab": {
          "base_uri": "https://localhost:8080/"
        },
        "id": "ZT5Ir53S6EcK",
        "outputId": "23467dba-2b97-4609-fcab-7209d07f8f42"
      },
      "source": [
        "my_id, my_vector = 0, adj_matrix[0]\n",
        "best_match, best_match_id, best_match_vector = -1, -1, []\n",
        "for user_id, user_vector in enumerate(adj_matrix):\n",
        "  if my_id != user_id:\n",
        "    similarity = np.dot(my_vector, user_vector)\n",
        "    if similarity > best_match:\n",
        "      best_match = similarity\n",
        "      best_match_id = user_id\n",
        "      best_match_vector = user_vector\n",
        "\n",
        "print(\"Best Match: {}, Best Match ID: {}\".format(best_match, best_match_id))"
      ],
      "execution_count": null,
      "outputs": [
        {
          "output_type": "stream",
          "text": [
            "Best Match: 183, Best Match ID: 275\n"
          ],
          "name": "stdout"
        }
      ]
    },
    {
      "cell_type": "code",
      "metadata": {
        "colab": {
          "base_uri": "https://localhost:8080/"
        },
        "id": "2Eo6d3Xc9VmO",
        "outputId": "5b447840-2b17-42bf-9d4c-4d6869a78486"
      },
      "source": [
        "recommend_list = []\n",
        "for i, log in enumerate(zip(my_vector, best_match_vector)):\n",
        "  log1, log2 = log \n",
        "  if log1 < 1. and log2 > 0.:\n",
        "    recommend_list.append(i)\n",
        "print(recommend_list)"
      ],
      "execution_count": null,
      "outputs": [
        {
          "output_type": "stream",
          "text": [
            "[272, 273, 275, 280, 281, 283, 287, 288, 289, 290, 292, 293, 297, 299, 300, 301, 302, 306, 312, 314, 315, 316, 317, 321, 322, 323, 324, 327, 330, 331, 332, 333, 339, 342, 345, 346, 353, 354, 355, 356, 357, 363, 364, 365, 366, 372, 374, 378, 379, 381, 382, 383, 384, 385, 386, 387, 390, 391, 392, 394, 395, 396, 398, 400, 401, 402, 403, 404, 405, 406, 407, 408, 409, 410, 412, 414, 416, 417, 418, 419, 420, 422, 424, 425, 426, 427, 428, 430, 431, 432, 435, 442, 446, 447, 448, 449, 450, 451, 452, 454, 455, 457, 460, 461, 462, 468, 469, 470, 471, 472, 473, 474, 478, 495, 500, 507, 517, 522, 525, 530, 539, 540, 543, 545, 546, 548, 549, 550, 551, 553, 557, 558, 560, 561, 562, 563, 565, 566, 567, 568, 570, 571, 574, 575, 576, 577, 580, 581, 582, 585, 587, 589, 590, 594, 596, 602, 623, 626, 627, 630, 633, 635, 639, 646, 648, 651, 652, 654, 657, 664, 668, 671, 677, 678, 681, 683, 684, 685, 690, 691, 692, 695, 696, 708, 709, 714, 718, 719, 720, 724, 726, 727, 731, 733, 734, 736, 738, 741, 742, 745, 746, 747, 749, 750, 754, 758, 762, 764, 767, 768, 769, 770, 771, 772, 773, 778, 779, 782, 785, 788, 789, 793, 795, 796, 799, 800, 801, 802, 805, 806, 808, 815, 819, 822, 824, 830, 839, 842, 843, 844, 852, 853, 870, 875, 878, 880, 889, 901, 914, 915, 918, 921, 927, 929, 930, 938, 940, 941, 942, 948, 950, 958, 968, 973, 974, 976, 992, 999, 1005, 1009, 1010, 1012, 1015, 1018, 1027, 1030, 1034, 1035, 1041, 1043, 1045, 1046, 1051, 1055, 1072, 1073, 1078, 1080, 1082, 1088, 1089, 1090, 1094, 1097, 1108, 1109, 1117, 1128, 1130, 1134, 1139, 1140, 1144, 1156, 1169, 1171, 1179, 1193, 1198, 1207, 1209, 1212, 1217, 1219, 1220, 1227, 1231, 1238, 1239, 1243, 1244, 1252, 1266, 1272, 1273, 1300, 1313, 1406, 1412, 1415, 1470, 1477, 1480, 1481, 1482]\n"
          ],
          "name": "stdout"
        }
      ]
    },
    {
      "cell_type": "markdown",
      "metadata": {
        "id": "sRL_ls7W9wjX"
      },
      "source": [
        "### Euclidean distance\n",
        "\n",
        "![image.png](data:image/png;base64,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)"
      ]
    },
    {
      "cell_type": "code",
      "metadata": {
        "colab": {
          "base_uri": "https://localhost:8080/"
        },
        "id": "yt8eC8j79tix",
        "outputId": "5bc3c3d3-d8e8-48a3-b6a6-bfa0e0285b3d"
      },
      "source": [
        "my_id, my_vector = 0, adj_matrix[0]\n",
        "best_match, best_match_id, best_match_vector = 9999, -1, []\n",
        "for user_id, user_vector in enumerate(adj_matrix):\n",
        "  if my_id != user_id:\n",
        "    #similarity = np.dot(my_vector, user_vector)\n",
        "    euclidean_dist = np.sqrt(np.sum(np.square(my_vector - user_vector)))\n",
        "    #if similarity > best_match:\n",
        "    if euclidean_dist < best_match:\n",
        "      #best_match = similarity\n",
        "      best_match = euclidean_dist\n",
        "      best_match_id = user_id\n",
        "      best_match_vector = user_vector\n",
        "\n",
        "print(\"Best Match: {}, Best Match ID: {}\".format(best_match, best_match_id))"
      ],
      "execution_count": null,
      "outputs": [
        {
          "output_type": "stream",
          "text": [
            "Best Match: 14.832396974191326, Best Match ID: 737\n"
          ],
          "name": "stdout"
        }
      ]
    },
    {
      "cell_type": "code",
      "metadata": {
        "colab": {
          "base_uri": "https://localhost:8080/"
        },
        "id": "qJIjRSa1_QOy",
        "outputId": "695f0244-6a34-4239-bcbf-2818207a6ede"
      },
      "source": [
        "recommend_list = []\n",
        "for i, log in enumerate(zip(my_vector, best_match_vector)):\n",
        "  log1, log2 = log \n",
        "  if log1 < 1. and log2 > 0.:\n",
        "    recommend_list.append(i)\n",
        "print(recommend_list)"
      ],
      "execution_count": null,
      "outputs": [
        {
          "output_type": "stream",
          "text": [
            "[297, 312, 317, 342, 356, 366, 379, 384, 392, 402, 404, 407, 417, 422, 428, 433, 448, 454, 469, 473, 495, 510, 516, 526, 527, 549, 567, 602, 635, 649, 650, 654, 658, 661, 664, 696, 731, 746, 750, 754, 915, 918, 925, 929, 950, 968, 1015, 1046]\n"
          ],
          "name": "stdout"
        }
      ]
    },
    {
      "cell_type": "markdown",
      "metadata": {
        "id": "Xo2DL7ZnA7A7"
      },
      "source": [
        "### Cosine similarity\n",
        "\n",
        "![image.png](data:image/png;base64,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)"
      ]
    },
    {
      "cell_type": "code",
      "metadata": {
        "id": "8fdhwQAgBhhY"
      },
      "source": [
        "def compute_cos_similarity(v1, v2):\n",
        "  norm1 = np.sqrt(np.sum(np.square(v1)))\n",
        "  norm2 = np.sqrt(np.sum(np.square(v2)))\n",
        "  dot = np.dot(v1, v2)\n",
        "  return dot / (norm1 * norm2)"
      ],
      "execution_count": null,
      "outputs": []
    },
    {
      "cell_type": "code",
      "metadata": {
        "colab": {
          "base_uri": "https://localhost:8080/"
        },
        "id": "_D17CaylCxuW",
        "outputId": "cfbb35d3-747c-40df-c1ac-9cb059c2fe82"
      },
      "source": [
        "my_id, my_vector = 0, adj_matrix[0]\n",
        "best_match, best_match_id, best_match_vector = -1, -1, []\n",
        "for user_id, user_vector in enumerate(adj_matrix):\n",
        "  if my_id != user_id:\n",
        "    #similarity = np.dot(my_vector, user_vector)\n",
        "    #euclidean_dist = np.sqrt(np.sum(np.square(my_vector - user_vector)))\n",
        "    cos_similarity = compute_cos_similarity(my_vector, user_vector)\n",
        "    #if similarity > best_match:\n",
        "    #if euclidean_dist < best_match:\n",
        "    if cos_similarity > best_match:\n",
        "      #best_match = similarity\n",
        "      #best_match = euclidean_dist\n",
        "      best_match = cos_similarity\n",
        "      best_match_id = user_id\n",
        "      best_match_vector = user_vector\n",
        "\n",
        "print(\"Best Match: {}, Best Match ID: {}\".format(best_match, best_match_id))"
      ],
      "execution_count": null,
      "outputs": [
        {
          "output_type": "stream",
          "text": [
            "Best Match: 0.5278586163659506, Best Match ID: 915\n"
          ],
          "name": "stdout"
        }
      ]
    },
    {
      "cell_type": "code",
      "metadata": {
        "colab": {
          "base_uri": "https://localhost:8080/"
        },
        "id": "52GBaprRDQa0",
        "outputId": "90ac638a-4163-4df1-f21d-b519fcbc01d1"
      },
      "source": [
        "recommend_list = []\n",
        "for i, log in enumerate(zip(my_vector, best_match_vector)):\n",
        "  log1, log2 = log \n",
        "  if log1 < 1. and log2 > 0.:\n",
        "    recommend_list.append(i)\n",
        "print(recommend_list)"
      ],
      "execution_count": null,
      "outputs": [
        {
          "output_type": "stream",
          "text": [
            "[272, 275, 279, 280, 283, 285, 289, 294, 297, 316, 317, 355, 365, 366, 368, 379, 380, 381, 384, 386, 392, 398, 401, 404, 416, 420, 422, 424, 426, 427, 430, 432, 450, 460, 461, 466, 469, 471, 473, 474, 475, 479, 482, 483, 497, 505, 508, 510, 511, 522, 526, 527, 529, 530, 534, 536, 540, 545, 548, 549, 556, 557, 558, 560, 565, 567, 568, 569, 577, 580, 581, 582, 592, 596, 630, 635, 639, 641, 649, 651, 654, 673, 677, 678, 683, 684, 692, 696, 701, 703, 707, 708, 709, 712, 714, 719, 720, 726, 731, 734, 736, 738, 740, 745, 747, 754, 755, 761, 762, 763, 766, 780, 789, 791, 805, 819, 823, 824, 830, 843, 862, 865, 918, 929, 930, 938, 942, 943, 947, 958, 959, 960, 970, 977, 1004, 1008, 1009, 1010, 1013, 1041, 1045, 1069, 1072, 1073, 1078, 1097, 1100, 1108, 1112, 1118, 1134, 1193, 1205, 1207, 1216, 1219, 1267, 1334, 1400, 1427, 1596, 1681]\n"
          ],
          "name": "stdout"
        }
      ]
    },
    {
      "cell_type": "markdown",
      "metadata": {
        "id": "y2Q2B6-_Dr4l"
      },
      "source": [
        "### adding feedback"
      ]
    },
    {
      "cell_type": "code",
      "metadata": {
        "colab": {
          "base_uri": "https://localhost:8080/"
        },
        "id": "qOGahwxnDYAe",
        "outputId": "d374adcc-ceb7-4d32-9f42-4efa22881e2e"
      },
      "source": [
        "adj_matrix = np.ndarray(shape, dtype=int)\n",
        "for user_id, movie_id, rating, time in raw_data:\n",
        "  #adj_matrix[user_id][movie_id] = 1.\n",
        "  adj_matrix[user_id][movie_id] = rating\n",
        "adj_matrix"
      ],
      "execution_count": null,
      "outputs": [
        {
          "output_type": "execute_result",
          "data": {
            "text/plain": [
              "array([[5, 3, 4, ..., 0, 0, 0],\n",
              "       [4, 0, 0, ..., 0, 0, 0],\n",
              "       [0, 0, 0, ..., 0, 0, 0],\n",
              "       ...,\n",
              "       [5, 0, 0, ..., 0, 0, 0],\n",
              "       [0, 0, 0, ..., 0, 0, 0],\n",
              "       [0, 5, 0, ..., 0, 0, 0]])"
            ]
          },
          "metadata": {
            "tags": []
          },
          "execution_count": 27
        }
      ]
    },
    {
      "cell_type": "code",
      "metadata": {
        "colab": {
          "base_uri": "https://localhost:8080/"
        },
        "id": "9Y4x913HD7Hj",
        "outputId": "5722dbee-b5c8-4a20-f569-869dff1c863d"
      },
      "source": [
        "my_id, my_vector = 0, adj_matrix[0]\n",
        "best_match, best_match_id, best_match_vector = 9999, -1, []\n",
        "for user_id, user_vector in enumerate(adj_matrix):\n",
        "  if my_id != user_id:\n",
        "    #similarity = np.dot(my_vector, user_vector)\n",
        "    euclidean_dist = np.sqrt(np.sum(np.square(my_vector - user_vector)))\n",
        "    #if similarity > best_match:\n",
        "    if euclidean_dist < best_match:\n",
        "      #best_match = similarity\n",
        "      best_match = euclidean_dist\n",
        "      best_match_id = user_id\n",
        "      best_match_vector = user_vector\n",
        "\n",
        "print(\"Best Match: {}, Best Match ID: {}\".format(best_match, best_match_id))"
      ],
      "execution_count": null,
      "outputs": [
        {
          "output_type": "stream",
          "text": [
            "Best Match: 55.06359959174482, Best Match ID: 737\n"
          ],
          "name": "stdout"
        }
      ]
    },
    {
      "cell_type": "code",
      "metadata": {
        "colab": {
          "base_uri": "https://localhost:8080/"
        },
        "id": "jM-9YasXEJXh",
        "outputId": "388d1487-9d8e-493f-af6a-c51d114c6c7c"
      },
      "source": [
        "my_id, my_vector = 0, adj_matrix[0]\n",
        "best_match, best_match_id, best_match_vector = -1, -1, []\n",
        "for user_id, user_vector in enumerate(adj_matrix):\n",
        "  if my_id != user_id:\n",
        "    #similarity = np.dot(my_vector, user_vector)\n",
        "    #euclidean_dist = np.sqrt(np.sum(np.square(my_vector - user_vector)))\n",
        "    cos_similarity = compute_cos_similarity(my_vector, user_vector)\n",
        "    #if similarity > best_match:\n",
        "    #if euclidean_dist < best_match:\n",
        "    if cos_similarity > best_match:\n",
        "      #best_match = similarity\n",
        "      #best_match = euclidean_dist\n",
        "      best_match = cos_similarity\n",
        "      best_match_id = user_id\n",
        "      best_match_vector = user_vector\n",
        "\n",
        "print(\"Best Match: {}, Best Match ID: {}\".format(best_match, best_match_id))"
      ],
      "execution_count": null,
      "outputs": [
        {
          "output_type": "stream",
          "text": [
            "Best Match: 0.569065731527988, Best Match ID: 915\n"
          ],
          "name": "stdout"
        }
      ]
    },
    {
      "cell_type": "markdown",
      "metadata": {
        "id": "N6PAXxfuBkuu"
      },
      "source": [
        "## Collaborative Filtering\n"
      ]
    },
    {
      "cell_type": "code",
      "metadata": {
        "id": "So7PBH_2Eb39"
      },
      "source": [
        "from surprise import Dataset\n",
        "data = Dataset.load_builtin('ml-100k')"
      ],
      "execution_count": null,
      "outputs": []
    },
    {
      "cell_type": "markdown",
      "metadata": {
        "id": "UHvVTnrSBqZi"
      },
      "source": [
        "### KNN"
      ]
    },
    {
      "cell_type": "code",
      "metadata": {
        "colab": {
          "base_uri": "https://localhost:8080/"
        },
        "id": "3apAs2NmIO7N",
        "outputId": "8d6ab611-99d8-4152-9206-3e8511123e40"
      },
      "source": [
        "from surprise import KNNBasic\n",
        "from surprise.model_selection import cross_validate\n",
        "model = KNNBasic()\n",
        "cross_validate(model, data, measures=['rmse', 'mae'], cv=5, n_jobs=4, verbose=True)"
      ],
      "execution_count": null,
      "outputs": [
        {
          "output_type": "stream",
          "text": [
            "Evaluating RMSE, MAE of algorithm KNNBasic on 5 split(s).\n",
            "\n",
            "                  Fold 1  Fold 2  Fold 3  Fold 4  Fold 5  Mean    Std     \n",
            "RMSE (testset)    0.9789  0.9844  0.9794  0.9837  0.9700  0.9793  0.0051  \n",
            "MAE (testset)     0.7718  0.7773  0.7723  0.7766  0.7674  0.7731  0.0036  \n",
            "Fit time          0.49    0.82    0.83    0.85    0.78    0.75    0.13    \n",
            "Test time         7.09    8.30    8.49    6.48    4.16    6.90    1.56    \n"
          ],
          "name": "stdout"
        },
        {
          "output_type": "execute_result",
          "data": {
            "text/plain": [
              "{'fit_time': (0.493513822555542,\n",
              "  0.8171682357788086,\n",
              "  0.8270130157470703,\n",
              "  0.8470032215118408,\n",
              "  0.7836227416992188),\n",
              " 'test_mae': array([0.77175651, 0.77725766, 0.77226712, 0.77661577, 0.76735643]),\n",
              " 'test_rmse': array([0.97886553, 0.98442863, 0.97940809, 0.98370834, 0.97004253]),\n",
              " 'test_time': (7.085634231567383,\n",
              "  8.304140329360962,\n",
              "  8.492968082427979,\n",
              "  6.483105182647705,\n",
              "  4.156208515167236)}"
            ]
          },
          "metadata": {
            "tags": []
          },
          "execution_count": 31
        }
      ]
    },
    {
      "cell_type": "markdown",
      "metadata": {
        "id": "XN23z01GBt3j"
      },
      "source": [
        "### SVD"
      ]
    },
    {
      "cell_type": "code",
      "metadata": {
        "colab": {
          "base_uri": "https://localhost:8080/"
        },
        "id": "56MwUmcmIk2V",
        "outputId": "c20583a4-f551-490a-c46a-530a9d94ee45"
      },
      "source": [
        "from surprise import SVD\n",
        "from surprise.model_selection import cross_validate\n",
        "model = SVD()\n",
        "cross_validate(model, data, measures=['rmse', 'mae'], cv=5, n_jobs=4, verbose=True)"
      ],
      "execution_count": null,
      "outputs": [
        {
          "output_type": "stream",
          "text": [
            "Evaluating RMSE, MAE of algorithm SVD on 5 split(s).\n",
            "\n",
            "                  Fold 1  Fold 2  Fold 3  Fold 4  Fold 5  Mean    Std     \n",
            "RMSE (testset)    0.9333  0.9384  0.9357  0.9387  0.9395  0.9371  0.0023  \n",
            "MAE (testset)     0.7374  0.7424  0.7375  0.7375  0.7402  0.7390  0.0020  \n",
            "Fit time          12.04   15.15   15.24   12.47   8.24    12.63   2.56    \n",
            "Test time         0.60    0.60    0.36    0.30    0.16    0.40    0.17    \n"
          ],
          "name": "stdout"
        },
        {
          "output_type": "execute_result",
          "data": {
            "text/plain": [
              "{'fit_time': (12.035125017166138,\n",
              "  15.153148889541626,\n",
              "  15.239967107772827,\n",
              "  12.468018293380737,\n",
              "  8.242295742034912),\n",
              " 'test_mae': array([0.73738135, 0.74242514, 0.73750996, 0.73754085, 0.74019494]),\n",
              " 'test_rmse': array([0.93334159, 0.93840127, 0.93571976, 0.93867869, 0.9394918 ]),\n",
              " 'test_time': (0.5967376232147217,\n",
              "  0.5986969470977783,\n",
              "  0.36158275604248047,\n",
              "  0.30399608612060547,\n",
              "  0.16253042221069336)}"
            ]
          },
          "metadata": {
            "tags": []
          },
          "execution_count": 32
        }
      ]
    },
    {
      "cell_type": "markdown",
      "metadata": {
        "id": "32vdbnkkByZY"
      },
      "source": [
        "### NMF"
      ]
    },
    {
      "cell_type": "code",
      "metadata": {
        "colab": {
          "base_uri": "https://localhost:8080/"
        },
        "id": "oLLCNki2In0K",
        "outputId": "b7547254-8805-4ad0-8df9-4c59c1ba02b8"
      },
      "source": [
        "from surprise import NMF\n",
        "from surprise.model_selection import cross_validate\n",
        "model = NMF()\n",
        "cross_validate(model, data, measures=['rmse', 'mae'], cv=5, n_jobs=4, verbose=True)"
      ],
      "execution_count": null,
      "outputs": [
        {
          "output_type": "stream",
          "text": [
            "Evaluating RMSE, MAE of algorithm NMF on 5 split(s).\n",
            "\n",
            "                  Fold 1  Fold 2  Fold 3  Fold 4  Fold 5  Mean    Std     \n",
            "RMSE (testset)    0.9663  0.9613  0.9680  0.9664  0.9674  0.9659  0.0024  \n",
            "MAE (testset)     0.7578  0.7575  0.7597  0.7589  0.7618  0.7591  0.0016  \n",
            "Fit time          13.41   16.03   16.39   13.50   8.80    13.63   2.71    \n",
            "Test time         0.64    0.52    0.36    0.24    0.14    0.38    0.18    \n"
          ],
          "name": "stdout"
        },
        {
          "output_type": "execute_result",
          "data": {
            "text/plain": [
              "{'fit_time': (13.414676904678345,\n",
              "  16.034263610839844,\n",
              "  16.393381118774414,\n",
              "  13.495818614959717,\n",
              "  8.800899267196655),\n",
              " 'test_mae': array([0.75775041, 0.7574886 , 0.75966403, 0.7589445 , 0.76179787]),\n",
              " 'test_rmse': array([0.96631989, 0.96127946, 0.96799866, 0.96643549, 0.96743483]),\n",
              " 'test_time': (0.6445057392120361,\n",
              "  0.5151314735412598,\n",
              "  0.36005663871765137,\n",
              "  0.23765802383422852,\n",
              "  0.14273715019226074)}"
            ]
          },
          "metadata": {
            "tags": []
          },
          "execution_count": 33
        }
      ]
    },
    {
      "cell_type": "markdown",
      "metadata": {
        "id": "5vpQkdL7B4Cy"
      },
      "source": [
        "### SVD++"
      ]
    },
    {
      "cell_type": "code",
      "metadata": {
        "colab": {
          "base_uri": "https://localhost:8080/"
        },
        "id": "Dfhrvj_AIqvN",
        "outputId": "233950c5-df07-4427-ca10-aaa421a2aa42"
      },
      "source": [
        "from surprise import SVDpp\n",
        "from surprise.model_selection import cross_validate\n",
        "model = SVDpp()\n",
        "cross_validate(model, data, measures=['rmse', 'mae'], cv=5, n_jobs=4, verbose=True)"
      ],
      "execution_count": null,
      "outputs": [
        {
          "output_type": "stream",
          "text": [
            "Evaluating RMSE, MAE of algorithm SVDpp on 5 split(s).\n",
            "\n",
            "                  Fold 1  Fold 2  Fold 3  Fold 4  Fold 5  Mean    Std     \n",
            "RMSE (testset)    0.9112  0.9157  0.9131  0.9230  0.9351  0.9196  0.0087  \n",
            "MAE (testset)     0.7160  0.7175  0.7171  0.7233  0.7336  0.7215  0.0066  \n",
            "Fit time          666.18  670.80  670.22  676.34  170.61  570.83  200.14  \n",
            "Test time         12.29   12.97   11.78   6.28    3.24    9.31    3.86    \n"
          ],
          "name": "stdout"
        },
        {
          "output_type": "execute_result",
          "data": {
            "text/plain": [
              "{'fit_time': (666.1783828735352,\n",
              "  670.7973039150238,\n",
              "  670.2176167964935,\n",
              "  676.3375568389893,\n",
              "  170.6071753501892),\n",
              " 'test_mae': array([0.71601245, 0.71747778, 0.71705826, 0.7232679 , 0.73360002]),\n",
              " 'test_rmse': array([0.91117747, 0.91571346, 0.91310341, 0.92302806, 0.93509196]),\n",
              " 'test_time': (12.292191505432129,\n",
              "  12.973945140838623,\n",
              "  11.784970998764038,\n",
              "  6.280825138092041,\n",
              "  3.2426886558532715)}"
            ]
          },
          "metadata": {
            "tags": []
          },
          "execution_count": 34
        }
      ]
    },
    {
      "cell_type": "markdown",
      "metadata": {
        "id": "XlS3d_EPB52c"
      },
      "source": [
        "## Hybrid\n",
        "\n",
        "Possible to make various hybrid (Content-based + Collaborative) system"
      ]
    },
    {
      "cell_type": "code",
      "metadata": {
        "id": "SAyagAqULomj"
      },
      "source": [
        "import numpy as np\n",
        "from surprise import Dataset\n",
        "data = Dataset.load_builtin('ml-100k')\n",
        "raw_data = np.array(data.raw_ratings, dtype=int)\n",
        "raw_data[:,0] -= 1\n",
        "raw_data[:,1] -= 1"
      ],
      "execution_count": null,
      "outputs": []
    },
    {
      "cell_type": "code",
      "metadata": {
        "colab": {
          "base_uri": "https://localhost:8080/"
        },
        "id": "qOjr0k05MI-g",
        "outputId": "e5e78890-3052-4062-f4b5-4d4871dc94f4"
      },
      "source": [
        "n_users = np.max(raw_data[:,0])\n",
        "n_movies = np.max(raw_data[:,1])\n",
        "shape = (n_users + 1, n_movies + 1)\n",
        "shape"
      ],
      "execution_count": null,
      "outputs": [
        {
          "output_type": "execute_result",
          "data": {
            "text/plain": [
              "(943, 1682)"
            ]
          },
          "metadata": {
            "tags": []
          },
          "execution_count": 60
        }
      ]
    },
    {
      "cell_type": "code",
      "metadata": {
        "colab": {
          "base_uri": "https://localhost:8080/"
        },
        "id": "ZeXAS2tSMceb",
        "outputId": "0850111f-6ea1-4b47-fd16-e098b92d02bf"
      },
      "source": [
        "adj_matrix = np.ndarray(shape, dtype=int)\n",
        "for user_id, movie_id, rating, time in raw_data:\n",
        "  adj_matrix[user_id][movie_id] = rating\n",
        "adj_matrix"
      ],
      "execution_count": null,
      "outputs": [
        {
          "output_type": "execute_result",
          "data": {
            "text/plain": [
              "array([[5, 3, 4, ..., 0, 0, 0],\n",
              "       [4, 0, 0, ..., 0, 0, 0],\n",
              "       [0, 0, 0, ..., 0, 0, 0],\n",
              "       ...,\n",
              "       [5, 0, 0, ..., 0, 0, 0],\n",
              "       [0, 0, 0, ..., 0, 0, 0],\n",
              "       [0, 5, 0, ..., 0, 0, 0]])"
            ]
          },
          "metadata": {
            "tags": []
          },
          "execution_count": 61
        }
      ]
    },
    {
      "cell_type": "markdown",
      "metadata": {
        "id": "7ixxqXLOOaM3"
      },
      "source": [
        "### For instance, SVD (Collaborate) + Cosine (Content-based)"
      ]
    },
    {
      "cell_type": "code",
      "metadata": {
        "colab": {
          "base_uri": "https://localhost:8080/"
        },
        "id": "h9GMtZS9NMek",
        "outputId": "f2552c22-a062-4e40-835d-26e7825b1633"
      },
      "source": [
        "from sklearn.decomposition import randomized_svd\n",
        "U, S, V = randomized_svd(adj_matrix, n_components=2)\n",
        "S = np.diag(S)\n",
        "print(U.shape)\n",
        "print(S.shape)\n",
        "print(V.shape)"
      ],
      "execution_count": null,
      "outputs": [
        {
          "output_type": "stream",
          "text": [
            "(943, 2)\n",
            "(2, 2)\n",
            "(2, 1682)\n"
          ],
          "name": "stdout"
        }
      ]
    },
    {
      "cell_type": "code",
      "metadata": {
        "colab": {
          "base_uri": "https://localhost:8080/"
        },
        "id": "6UZZYI5YNjFZ",
        "outputId": "42ecd999-1b52-4ff2-8bfb-b8973d3166a4"
      },
      "source": [
        "np.matmul(np.matmul(U, S), V)"
      ],
      "execution_count": null,
      "outputs": [
        {
          "output_type": "execute_result",
          "data": {
            "text/plain": [
              "array([[ 3.91732663e+00,  1.47276644e+00,  7.98261988e-01, ...,\n",
              "         6.24907189e-04,  1.41100852e-02,  1.36545878e-02],\n",
              "       [ 1.85777226e+00,  3.96191175e-01,  5.05705740e-01, ...,\n",
              "         5.38862978e-03,  1.77237914e-03,  5.26968095e-04],\n",
              "       [ 8.94989517e-01,  1.71578497e-01,  2.51738682e-01, ...,\n",
              "         2.92094923e-03,  5.39937171e-04, -1.25733753e-04],\n",
              "       ...,\n",
              "       [ 9.92051955e-01,  2.10814957e-01,  2.70363365e-01, ...,\n",
              "         2.89019297e-03,  9.34221962e-04,  2.66612193e-04],\n",
              "       [ 1.30425401e+00,  5.27669941e-01,  2.50080165e-01, ...,\n",
              "        -4.20677765e-04,  5.30525683e-03,  5.28069948e-03],\n",
              "       [ 2.82999397e+00,  9.70812247e-01,  6.15871694e-01, ...,\n",
              "         2.02091492e-03,  8.67740813e-03,  8.03107892e-03]])"
            ]
          },
          "metadata": {
            "tags": []
          },
          "execution_count": 63
        }
      ]
    },
    {
      "cell_type": "markdown",
      "metadata": {
        "id": "xiKYL0J2PUb2"
      },
      "source": [
        "**User-based recommendation**\n",
        "\n",
        "---\n",
        "\n"
      ]
    },
    {
      "cell_type": "code",
      "metadata": {
        "id": "5vb11uL4OPot"
      },
      "source": [
        "def compute_cos_similarity(v1, v2):\n",
        "  norm1 = np.sqrt(np.sum(np.square(v1)))\n",
        "  norm2 = np.sqrt(np.sum(np.square(v2)))\n",
        "  dot = np.dot(v1, v2)\n",
        "  return dot / (norm1 * norm2)"
      ],
      "execution_count": null,
      "outputs": []
    },
    {
      "cell_type": "code",
      "metadata": {
        "colab": {
          "base_uri": "https://localhost:8080/"
        },
        "id": "x-ccCrJ1N2Qm",
        "outputId": "b669a1d7-7363-4402-b3a1-36cc2fbe5b44"
      },
      "source": [
        "my_id, my_vector = 0, U[0]\n",
        "best_match, best_match_id, best_match_vector = -1, -1, []\n",
        "for user_id, user_vector in enumerate(U):\n",
        "  if my_id != user_id:\n",
        "    #similarity = np.dot(my_vector, user_vector)\n",
        "    #euclidean_dist = np.sqrt(np.sum(np.square(my_vector - user_vector)))\n",
        "    cos_similarity = compute_cos_similarity(my_vector, user_vector)\n",
        "    #if similarity > best_match:\n",
        "    #if euclidean_dist < best_match:\n",
        "    if cos_similarity > best_match:\n",
        "      #best_match = similarity\n",
        "      #best_match = euclidean_dist\n",
        "      best_match = cos_similarity\n",
        "      best_match_id = user_id\n",
        "      best_match_vector = user_vector\n",
        "\n",
        "print(\"Best Match: {}, Best Match ID: {}\".format(best_match, best_match_id))"
      ],
      "execution_count": null,
      "outputs": [
        {
          "output_type": "stream",
          "text": [
            "Best Match: 0.9999942295956324, Best Match ID: 235\n"
          ],
          "name": "stdout"
        }
      ]
    },
    {
      "cell_type": "code",
      "metadata": {
        "colab": {
          "base_uri": "https://localhost:8080/"
        },
        "id": "1aAg7uMuOd7y",
        "outputId": "9ec4d569-c5fb-4238-b09e-ab3abc37f84f"
      },
      "source": [
        "recommend_list = []\n",
        "#for i, log in enumerate(zip(my_vector, best_match_vector)):\n",
        "for i, log in enumerate(zip(adj_matrix[my_id], adj_matrix[best_match_id])):\n",
        "  log1, log2 = log \n",
        "  if log1 < 1. and log2 > 0.:\n",
        "    recommend_list.append(i)\n",
        "print(recommend_list)"
      ],
      "execution_count": null,
      "outputs": [
        {
          "output_type": "stream",
          "text": [
            "[272, 273, 274, 281, 285, 288, 293, 297, 303, 306, 312, 317, 327, 332, 369, 410, 418, 419, 422, 426, 428, 431, 434, 442, 461, 475, 477, 482, 495, 503, 504, 505, 506, 509, 519, 520, 522, 525, 531, 545, 548, 590, 594, 595, 613, 631, 654, 658, 660, 672, 684, 685, 691, 695, 698, 704, 716, 728, 734, 749, 755, 863, 865, 933, 1012, 1038, 1101, 1327, 1400]\n"
          ],
          "name": "stdout"
        }
      ]
    },
    {
      "cell_type": "markdown",
      "metadata": {
        "id": "2IoxPseXPhzL"
      },
      "source": [
        "**Item-based recommendation**\n",
        "\n",
        "---\n",
        "\n"
      ]
    },
    {
      "cell_type": "code",
      "metadata": {
        "colab": {
          "base_uri": "https://localhost:8080/"
        },
        "id": "hsgXMrl5PFYf",
        "outputId": "5f8179b2-1aad-4fe4-ec14-fe59621789e9"
      },
      "source": [
        "my_id, my_vector = 0, V.T[0]\n",
        "best_match, best_match_id, best_match_vector = -1, -1, []\n",
        "for user_id, user_vector in enumerate(V.T):\n",
        "  if my_id != user_id:\n",
        "    #similarity = np.dot(my_vector, user_vector)\n",
        "    #euclidean_dist = np.sqrt(np.sum(np.square(my_vector - user_vector)))\n",
        "    cos_similarity = compute_cos_similarity(my_vector, user_vector)\n",
        "    #if similarity > best_match:\n",
        "    #if euclidean_dist < best_match:\n",
        "    if cos_similarity > best_match:\n",
        "      #best_match = similarity\n",
        "      #best_match = euclidean_dist\n",
        "      best_match = cos_similarity\n",
        "      best_match_id = user_id\n",
        "      best_match_vector = user_vector\n",
        "\n",
        "print(\"Best Match: {}, Best Match ID: {}\".format(best_match, best_match_id))"
      ],
      "execution_count": null,
      "outputs": [
        {
          "output_type": "stream",
          "text": [
            "Best Match: 0.9999999951364145, Best Match ID: 1287\n"
          ],
          "name": "stdout"
        }
      ]
    },
    {
      "cell_type": "code",
      "metadata": {
        "colab": {
          "base_uri": "https://localhost:8080/"
        },
        "id": "fkQ3oDJHP1YK",
        "outputId": "2979ff12-e03f-4cb2-9c49-f8a3e0454cd7"
      },
      "source": [
        "recommend_list = []\n",
        "#for i, log in enumerate(zip(my_vector, best_match_vector)):\n",
        "#for i, log in enumerate(zip(adj_matrix[my_id], adj_matrix[best_match_id])):\n",
        "for i, user_vector in enumerate(adj_matrix):\n",
        "  #log1, log2 = log \n",
        "  #if log1 < 1. and log2 > 0.:\n",
        "  if adj_matrix[i][my_id] > 0.9:\n",
        "    recommend_list.append(i)\n",
        "print(recommend_list)"
      ],
      "execution_count": null,
      "outputs": [
        {
          "output_type": "stream",
          "text": [
            "[0, 1, 4, 5, 9, 12, 14, 15, 16, 17, 19, 20, 22, 24, 25, 37, 40, 41, 42, 43, 44, 48, 53, 55, 56, 57, 58, 61, 62, 63, 64, 65, 66, 69, 71, 72, 74, 76, 78, 80, 81, 82, 83, 88, 91, 92, 93, 94, 95, 96, 98, 100, 101, 105, 107, 108, 116, 119, 120, 123, 124, 127, 129, 130, 133, 136, 137, 140, 143, 144, 147, 149, 150, 156, 157, 159, 161, 167, 173, 176, 177, 180, 181, 183, 188, 192, 193, 197, 198, 199, 200, 201, 202, 203, 208, 209, 212, 215, 221, 222, 229, 230, 231, 233, 234, 241, 242, 243, 245, 246, 247, 248, 249, 250, 251, 252, 253, 255, 261, 262, 264, 267, 270, 273, 274, 275, 276, 278, 279, 285, 286, 288, 289, 290, 291, 292, 293, 294, 295, 296, 297, 298, 300, 302, 304, 306, 307, 310, 311, 312, 313, 319, 321, 323, 324, 325, 326, 329, 330, 331, 335, 337, 338, 339, 342, 343, 344, 346, 347, 349, 356, 358, 359, 362, 364, 370, 373, 377, 378, 379, 380, 386, 387, 388, 389, 392, 393, 394, 395, 397, 398, 400, 401, 402, 405, 406, 410, 411, 415, 416, 418, 421, 423, 424, 428, 431, 433, 434, 437, 440, 444, 446, 449, 453, 454, 455, 456, 457, 458, 459, 462, 464, 466, 467, 469, 470, 471, 477, 478, 482, 483, 485, 486, 487, 489, 492, 493, 494, 496, 499, 502, 504, 507, 511, 513, 516, 517, 520, 522, 524, 525, 531, 532, 533, 534, 535, 536, 539, 540, 541, 544, 547, 548, 549, 551, 552, 553, 559, 560, 561, 566, 568, 575, 576, 578, 579, 581, 587, 591, 592, 596, 598, 601, 604, 605, 608, 609, 611, 612, 613, 617, 619, 620, 621, 623, 629, 631, 633, 634, 635, 636, 641, 642, 647, 648, 649, 652, 653, 654, 656, 657, 659, 660, 662, 663, 664, 668, 673, 675, 676, 677, 678, 679, 681, 683, 688, 689, 690, 691, 696, 697, 698, 700, 702, 704, 705, 707, 708, 709, 713, 714, 715, 720, 722, 725, 726, 729, 730, 732, 734, 737, 741, 743, 744, 745, 746, 747, 748, 750, 755, 756, 758, 760, 762, 763, 766, 767, 768, 769, 770, 772, 776, 778, 784, 785, 787, 788, 789, 791, 792, 793, 794, 795, 797, 799, 803, 804, 805, 806, 814, 816, 820, 821, 822, 825, 828, 829, 830, 834, 837, 838, 842, 846, 851, 853, 863, 864, 866, 867, 869, 871, 878, 879, 880, 881, 882, 884, 885, 886, 888, 889, 891, 892, 893, 894, 895, 896, 898, 900, 901, 902, 906, 909, 912, 915, 916, 917, 918, 920, 921, 922, 923, 926, 928, 929, 931, 932, 933, 934, 935, 937, 940]\n"
          ],
          "name": "stdout"
        }
      ]
    },
    {
      "cell_type": "markdown",
      "metadata": {
        "id": "1hVLCpG5Qhz_"
      },
      "source": [
        "### For instance, Non-negative factorization (Collaborate) + Cosine (Content-based)"
      ]
    },
    {
      "cell_type": "code",
      "metadata": {
        "colab": {
          "base_uri": "https://localhost:8080/"
        },
        "id": "PsplJDXSQfMc",
        "outputId": "ef062075-d4d2-413a-eefd-4f4cd2c59652"
      },
      "source": [
        "from sklearn.decomposition import non_negative_factorization\n",
        "A, B, iter = non_negative_factorization(adj_matrix, n_components=2)"
      ],
      "execution_count": null,
      "outputs": [
        {
          "output_type": "stream",
          "text": [
            "/usr/local/lib/python3.7/dist-packages/sklearn/decomposition/_nmf.py:1035: FutureWarning: The default value of init will change from random to None in 0.23 to make it consistent with decomposition.NMF.\n",
            "  \"with decomposition.NMF.\", FutureWarning)\n"
          ],
          "name": "stderr"
        }
      ]
    },
    {
      "cell_type": "code",
      "metadata": {
        "colab": {
          "base_uri": "https://localhost:8080/"
        },
        "id": "ExgXoPbLRQ0-",
        "outputId": "656dbe8e-e287-44e4-cd6c-8e82b1c64a99"
      },
      "source": [
        "np.matmul(A, B)"
      ],
      "execution_count": null,
      "outputs": [
        {
          "output_type": "execute_result",
          "data": {
            "text/plain": [
              "array([[3.71104337e+00, 1.48478758e+00, 7.39555123e-01, ...,\n",
              "        3.64526629e-03, 1.45529533e-02, 1.44127764e-02],\n",
              "       [2.11741174e+00, 2.36725022e-01, 5.51609294e-01, ...,\n",
              "        4.76723612e-03, 2.43256703e-05, 0.00000000e+00],\n",
              "       [9.85439886e-01, 1.10171430e-01, 2.56718044e-01, ...,\n",
              "        2.21866373e-03, 1.13211263e-05, 0.00000000e+00],\n",
              "       ...,\n",
              "       [1.04462347e+00, 1.16788109e-01, 2.72136025e-01, ...,\n",
              "        2.35191231e-03, 1.20010509e-05, 0.00000000e+00],\n",
              "       [1.45792157e+00, 5.42098660e-01, 2.99294725e-01, ...,\n",
              "        1.61352075e-03, 5.15829880e-03, 5.10698651e-03],\n",
              "       [2.44659568e+00, 9.41431478e-01, 4.95523131e-01, ...,\n",
              "        2.56809849e-03, 9.08646615e-03, 8.99746557e-03]])"
            ]
          },
          "metadata": {
            "tags": []
          },
          "execution_count": 70
        }
      ]
    },
    {
      "cell_type": "markdown",
      "metadata": {
        "id": "NyVY8GU7SGBk"
      },
      "source": [
        "**User-based recommendation**\n",
        "\n",
        "---\n"
      ]
    },
    {
      "cell_type": "code",
      "metadata": {
        "colab": {
          "base_uri": "https://localhost:8080/"
        },
        "id": "mAVHkyLwRhbC",
        "outputId": "0ce4e231-1c88-44e4-f48a-ecf061f14791"
      },
      "source": [
        "my_id, my_vector = 0, U[0]\n",
        "best_match, best_match_id, best_match_vector = -1, -1, []\n",
        "for user_id, user_vector in enumerate(U):\n",
        "  if my_id != user_id:\n",
        "    #similarity = np.dot(my_vector, user_vector)\n",
        "    #euclidean_dist = np.sqrt(np.sum(np.square(my_vector - user_vector)))\n",
        "    cos_similarity = compute_cos_similarity(my_vector, user_vector)\n",
        "    #if similarity > best_match:\n",
        "    #if euclidean_dist < best_match:\n",
        "    if cos_similarity > best_match:\n",
        "      #best_match = similarity\n",
        "      #best_match = euclidean_dist\n",
        "      best_match = cos_similarity\n",
        "      best_match_id = user_id\n",
        "      best_match_vector = user_vector\n",
        "\n",
        "print(\"Best Match: {}, Best Match ID: {}\".format(best_match, best_match_id))"
      ],
      "execution_count": null,
      "outputs": [
        {
          "output_type": "stream",
          "text": [
            "Best Match: 0.9999942295956324, Best Match ID: 235\n"
          ],
          "name": "stdout"
        }
      ]
    },
    {
      "cell_type": "code",
      "metadata": {
        "colab": {
          "base_uri": "https://localhost:8080/"
        },
        "id": "o8rD9NABRnwG",
        "outputId": "188da66f-1fe3-43ed-cb68-900d4a1fb785"
      },
      "source": [
        "recommend_list = []\n",
        "#for i, log in enumerate(zip(my_vector, best_match_vector)):\n",
        "for i, log in enumerate(zip(adj_matrix[my_id], adj_matrix[best_match_id])):\n",
        "  log1, log2 = log \n",
        "  if log1 < 1. and log2 > 0.:\n",
        "    recommend_list.append(i)\n",
        "print(recommend_list)"
      ],
      "execution_count": null,
      "outputs": [
        {
          "output_type": "stream",
          "text": [
            "[272, 273, 274, 281, 285, 288, 293, 297, 303, 306, 312, 317, 327, 332, 369, 410, 418, 419, 422, 426, 428, 431, 434, 442, 461, 475, 477, 482, 495, 503, 504, 505, 506, 509, 519, 520, 522, 525, 531, 545, 548, 590, 594, 595, 613, 631, 654, 658, 660, 672, 684, 685, 691, 695, 698, 704, 716, 728, 734, 749, 755, 863, 865, 933, 1012, 1038, 1101, 1327, 1400]\n"
          ],
          "name": "stdout"
        }
      ]
    },
    {
      "cell_type": "markdown",
      "metadata": {
        "id": "OYSATG5sSJUn"
      },
      "source": [
        "**Item-based recommendation**\n",
        "\n",
        "---\n",
        "\n"
      ]
    },
    {
      "cell_type": "code",
      "metadata": {
        "colab": {
          "base_uri": "https://localhost:8080/"
        },
        "id": "XUObqbvJRviu",
        "outputId": "40125c41-9d68-42e6-b45b-733dd9d2bb3b"
      },
      "source": [
        "my_id, my_vector = 0, V.T[0]\n",
        "best_match, best_match_id, best_match_vector = -1, -1, []\n",
        "for user_id, user_vector in enumerate(V.T):\n",
        "  if my_id != user_id:\n",
        "    #similarity = np.dot(my_vector, user_vector)\n",
        "    #euclidean_dist = np.sqrt(np.sum(np.square(my_vector - user_vector)))\n",
        "    cos_similarity = compute_cos_similarity(my_vector, user_vector)\n",
        "    #if similarity > best_match:\n",
        "    #if euclidean_dist < best_match:\n",
        "    if cos_similarity > best_match:\n",
        "      #best_match = similarity\n",
        "      #best_match = euclidean_dist\n",
        "      best_match = cos_similarity\n",
        "      best_match_id = user_id\n",
        "      best_match_vector = user_vector\n",
        "\n",
        "print(\"Best Match: {}, Best Match ID: {}\".format(best_match, best_match_id))"
      ],
      "execution_count": null,
      "outputs": [
        {
          "output_type": "stream",
          "text": [
            "Best Match: 0.9999999951364145, Best Match ID: 1287\n"
          ],
          "name": "stdout"
        }
      ]
    },
    {
      "cell_type": "code",
      "metadata": {
        "colab": {
          "base_uri": "https://localhost:8080/"
        },
        "id": "xKNUvVtkSQOC",
        "outputId": "099bf5a5-8091-4c8e-bae7-c3fe198515f2"
      },
      "source": [
        "recommend_list = []\n",
        "#for i, log in enumerate(zip(my_vector, best_match_vector)):\n",
        "#for i, log in enumerate(zip(adj_matrix[my_id], adj_matrix[best_match_id])):\n",
        "for i, user_vector in enumerate(adj_matrix):\n",
        "  #log1, log2 = log \n",
        "  #if log1 < 1. and log2 > 0.:\n",
        "  if adj_matrix[i][my_id] > 0.9:\n",
        "    recommend_list.append(i)\n",
        "print(recommend_list)"
      ],
      "execution_count": null,
      "outputs": [
        {
          "output_type": "stream",
          "text": [
            "[0, 1, 4, 5, 9, 12, 14, 15, 16, 17, 19, 20, 22, 24, 25, 37, 40, 41, 42, 43, 44, 48, 53, 55, 56, 57, 58, 61, 62, 63, 64, 65, 66, 69, 71, 72, 74, 76, 78, 80, 81, 82, 83, 88, 91, 92, 93, 94, 95, 96, 98, 100, 101, 105, 107, 108, 116, 119, 120, 123, 124, 127, 129, 130, 133, 136, 137, 140, 143, 144, 147, 149, 150, 156, 157, 159, 161, 167, 173, 176, 177, 180, 181, 183, 188, 192, 193, 197, 198, 199, 200, 201, 202, 203, 208, 209, 212, 215, 221, 222, 229, 230, 231, 233, 234, 241, 242, 243, 245, 246, 247, 248, 249, 250, 251, 252, 253, 255, 261, 262, 264, 267, 270, 273, 274, 275, 276, 278, 279, 285, 286, 288, 289, 290, 291, 292, 293, 294, 295, 296, 297, 298, 300, 302, 304, 306, 307, 310, 311, 312, 313, 319, 321, 323, 324, 325, 326, 329, 330, 331, 335, 337, 338, 339, 342, 343, 344, 346, 347, 349, 356, 358, 359, 362, 364, 370, 373, 377, 378, 379, 380, 386, 387, 388, 389, 392, 393, 394, 395, 397, 398, 400, 401, 402, 405, 406, 410, 411, 415, 416, 418, 421, 423, 424, 428, 431, 433, 434, 437, 440, 444, 446, 449, 453, 454, 455, 456, 457, 458, 459, 462, 464, 466, 467, 469, 470, 471, 477, 478, 482, 483, 485, 486, 487, 489, 492, 493, 494, 496, 499, 502, 504, 507, 511, 513, 516, 517, 520, 522, 524, 525, 531, 532, 533, 534, 535, 536, 539, 540, 541, 544, 547, 548, 549, 551, 552, 553, 559, 560, 561, 566, 568, 575, 576, 578, 579, 581, 587, 591, 592, 596, 598, 601, 604, 605, 608, 609, 611, 612, 613, 617, 619, 620, 621, 623, 629, 631, 633, 634, 635, 636, 641, 642, 647, 648, 649, 652, 653, 654, 656, 657, 659, 660, 662, 663, 664, 668, 673, 675, 676, 677, 678, 679, 681, 683, 688, 689, 690, 691, 696, 697, 698, 700, 702, 704, 705, 707, 708, 709, 713, 714, 715, 720, 722, 725, 726, 729, 730, 732, 734, 737, 741, 743, 744, 745, 746, 747, 748, 750, 755, 756, 758, 760, 762, 763, 766, 767, 768, 769, 770, 772, 776, 778, 784, 785, 787, 788, 789, 791, 792, 793, 794, 795, 797, 799, 803, 804, 805, 806, 814, 816, 820, 821, 822, 825, 828, 829, 830, 834, 837, 838, 842, 846, 851, 853, 863, 864, 866, 867, 869, 871, 878, 879, 880, 881, 882, 884, 885, 886, 888, 889, 891, 892, 893, 894, 895, 896, 898, 900, 901, 902, 906, 909, 912, 915, 916, 917, 918, 920, 921, 922, 923, 926, 928, 929, 931, 932, 933, 934, 935, 937, 940]\n"
          ],
          "name": "stdout"
        }
      ]
    }
  ]
}