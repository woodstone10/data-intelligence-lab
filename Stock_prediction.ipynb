{
  "nbformat": 4,
  "nbformat_minor": 0,
  "metadata": {
    "colab": {
      "name": "Stock prediction.ipynb",
      "provenance": [],
      "collapsed_sections": [],
      "include_colab_link": true
    },
    "kernelspec": {
      "name": "python3",
      "display_name": "Python 3"
    },
    "language_info": {
      "name": "python"
    }
  },
  "cells": [
    {
      "cell_type": "markdown",
      "metadata": {
        "id": "view-in-github",
        "colab_type": "text"
      },
      "source": [
        "<a href=\"https://colab.research.google.com/github/woodstone10/data-intelligence-lab/blob/main/Stock_prediction.ipynb\" target=\"_parent\"><img src=\"https://colab.research.google.com/assets/colab-badge.svg\" alt=\"Open In Colab\"/></a>"
      ]
    },
    {
      "cell_type": "markdown",
      "metadata": {
        "id": "fiBJhYHeIJSd"
      },
      "source": [
        "# Practice) Stock price prediction\n"
      ]
    },
    {
      "cell_type": "markdown",
      "metadata": {
        "id": "uW30kMOOkrhZ"
      },
      "source": [
        "Reference:\n",
        "- https://github.com/kairess/stock_crypto_price_prediction/blob/master/stock_samsung.ipynb\n",
        "\n"
      ]
    },
    {
      "cell_type": "code",
      "metadata": {
        "id": "AG-39QawBnO7"
      },
      "source": [
        "import numpy as np\n",
        "import datetime as dt\n",
        "import pandas as pd\n",
        "import pandas_datareader as pdr\n",
        "import matplotlib.pyplot as plt\n",
        "\n",
        "import bokeh.plotting as bk\n",
        "import bokeh.layouts\n",
        "import bokeh.io\n",
        "import bokeh.models\n",
        "from math import pi\n",
        "\n",
        "import tensorflow as tf"
      ],
      "execution_count": null,
      "outputs": []
    },
    {
      "cell_type": "markdown",
      "metadata": {
        "id": "OtTIvYtjvomA"
      },
      "source": [
        "**Pandas Remote Data Access**, which is simpler than web crawling\n",
        "\n",
        "https://pandas-datareader.readthedocs.io/en/latest/remote_data.html\n",
        "\n",
        "---\n",
        "\n"
      ]
    },
    {
      "cell_type": "code",
      "metadata": {
        "id": "uap7-716k9fh"
      },
      "source": [
        "end = dt.datetime.now()\n",
        "#start = dt.datetime(2021, 1, 1)\n",
        "span = 365*5 #days ago\n",
        "start = end - dt.timedelta(days=span) \n",
        "\n",
        "LGE = pdr.data.DataReader('066570', 'naver', start, end).astype(float) "
      ],
      "execution_count": null,
      "outputs": []
    },
    {
      "cell_type": "code",
      "metadata": {
        "colab": {
          "base_uri": "https://localhost:8080/"
        },
        "id": "qn0IJL3IlpYs",
        "outputId": "500218ee-e2c0-4f2f-f329-600b2177eaf9"
      },
      "source": [
        "print(SSE.head())\n",
        "print(SSE.tail())"
      ],
      "execution_count": null,
      "outputs": [
        {
          "output_type": "stream",
          "text": [
            "               Open     High      Low    Close    Volume\n",
            "Date                                                    \n",
            "2016-04-08  25380.0  25380.0  24800.0  24920.0  251868.0\n",
            "2016-04-11  24920.0  25420.0  24920.0  25320.0  120693.0\n",
            "2016-04-12  25400.0  25620.0  25320.0  25500.0  134054.0\n",
            "2016-04-14  26000.0  26040.0  25780.0  26000.0  335327.0\n",
            "2016-04-15  26180.0  26200.0  25800.0  26000.0  136599.0\n",
            "               Open     High      Low    Close      Volume\n",
            "Date                                                      \n",
            "2021-03-31  82400.0  82700.0  81400.0  81400.0  17240518.0\n",
            "2021-04-01  82500.0  83000.0  82000.0  82900.0  18676461.0\n",
            "2021-04-02  84000.0  85200.0  83900.0  84800.0  22997538.0\n",
            "2021-04-05  85800.0  86000.0  84800.0  85400.0  16255990.0\n",
            "2021-04-06  86200.0  86200.0  85100.0  86000.0  18884541.0\n"
          ],
          "name": "stdout"
        }
      ]
    },
    {
      "cell_type": "markdown",
      "metadata": {
        "id": "YojoMd6O8lzW"
      },
      "source": [
        "# **Data**\n",
        "\n",
        "---\n"
      ]
    },
    {
      "cell_type": "code",
      "metadata": {
        "id": "bbA9j3llNQMO"
      },
      "source": [
        "def data(df, win_size):\n",
        "  high_prices = df['High'].values\n",
        "  low_prices = df['Low'].values\n",
        "  mid_prices = (high_prices + low_prices) / 2\n",
        "\n",
        "  # window\n",
        "  seq_len = win_size\n",
        "  sequence_length = seq_len + 1\n",
        "  result = []\n",
        "  for i in range(len(mid_prices) - sequence_length):\n",
        "    result.append(mid_prices[i: i + sequence_length])\n",
        "  #print(result)\n",
        "  \n",
        "  # normalize\n",
        "  normalized_data = []\n",
        "  for window in result:\n",
        "    normalized_window = [((float(p) / float(window[0])) - 1) for p in window]\n",
        "    normalized_data.append(normalized_window)\n",
        "  result = np.array(normalized_data)\n",
        "\n",
        "  # split train and test data\n",
        "  row = int(round(result.shape[0] * 0.9))\n",
        "  train = result[:row, :]\n",
        "  np.random.shuffle(train)\n",
        "\n",
        "  x_train = train[:, :-1]\n",
        "  x_train = np.reshape(x_train, (x_train.shape[0], x_train.shape[1], 1))\n",
        "  y_train = train[:, -1]\n",
        "\n",
        "  x_test = result[row:, :-1]\n",
        "  x_test = np.reshape(x_test, (x_test.shape[0], x_test.shape[1], 1))\n",
        "  y_test = result[row:, -1]\n",
        "\n",
        "  x_train.shape, x_test.shape\n",
        "  return x_train, y_train, x_test, y_test"
      ],
      "execution_count": null,
      "outputs": []
    },
    {
      "cell_type": "code",
      "metadata": {
        "id": "0ZppsVbqoU0L"
      },
      "source": [
        "x_train, y_train, x_test, y_test = data(LGE, 50)"
      ],
      "execution_count": null,
      "outputs": []
    },
    {
      "cell_type": "markdown",
      "metadata": {
        "id": "84S-rrErrYOU"
      },
      "source": [
        "# Model"
      ]
    },
    {
      "cell_type": "code",
      "metadata": {
        "id": "131SMYWd8k0V",
        "colab": {
          "base_uri": "https://localhost:8080/"
        },
        "outputId": "aaf443a7-7d9c-40f7-c9f9-71184bb54b6a"
      },
      "source": [
        "model = \\\n",
        "    tf.keras.Sequential([\n",
        "        tf.keras.layers.LSTM(50, return_sequences=True, input_shape=(50, 1)),\n",
        "        tf.keras.layers.LSTM(64, return_sequences=False),       \n",
        "        tf.keras.layers.Dense(1, activation='linear')\n",
        "    ])\n",
        "\n",
        "model.compile(loss='mse', \n",
        "              metrics=['accuracy'], \n",
        "              optimizer='adam')\n",
        "\n",
        "model.summary()"
      ],
      "execution_count": null,
      "outputs": [
        {
          "output_type": "stream",
          "text": [
            "Model: \"sequential_1\"\n",
            "_________________________________________________________________\n",
            "Layer (type)                 Output Shape              Param #   \n",
            "=================================================================\n",
            "lstm_2 (LSTM)                (None, 50, 50)            10400     \n",
            "_________________________________________________________________\n",
            "lstm_3 (LSTM)                (None, 64)                29440     \n",
            "_________________________________________________________________\n",
            "dense_1 (Dense)              (None, 1)                 65        \n",
            "=================================================================\n",
            "Total params: 39,905\n",
            "Trainable params: 39,905\n",
            "Non-trainable params: 0\n",
            "_________________________________________________________________\n"
          ],
          "name": "stdout"
        }
      ]
    },
    {
      "cell_type": "code",
      "metadata": {
        "colab": {
          "base_uri": "https://localhost:8080/"
        },
        "id": "dPJiyf_6VlnK",
        "outputId": "e7ae83e7-8079-45f4-f5f1-36985c007631"
      },
      "source": [
        "model.fit(x_train, y_train,\n",
        "    validation_data=(x_test, y_test),\n",
        "    batch_size=10,\n",
        "    epochs=20)"
      ],
      "execution_count": null,
      "outputs": [
        {
          "output_type": "stream",
          "text": [
            "Epoch 1/20\n",
            "106/106 [==============================] - 10s 57ms/step - loss: 0.0078 - accuracy: 9.3579e-04 - val_loss: 0.0156 - val_accuracy: 0.0085\n",
            "Epoch 2/20\n",
            "106/106 [==============================] - 5s 47ms/step - loss: 0.0016 - accuracy: 3.5544e-04 - val_loss: 0.0162 - val_accuracy: 0.0085\n",
            "Epoch 3/20\n",
            "106/106 [==============================] - 5s 50ms/step - loss: 0.0013 - accuracy: 9.1366e-05 - val_loss: 0.0092 - val_accuracy: 0.0085\n",
            "Epoch 4/20\n",
            "106/106 [==============================] - 5s 47ms/step - loss: 0.0010 - accuracy: 9.1366e-05 - val_loss: 0.0098 - val_accuracy: 0.0085\n",
            "Epoch 5/20\n",
            "106/106 [==============================] - 5s 48ms/step - loss: 0.0010 - accuracy: 9.8434e-04 - val_loss: 0.0072 - val_accuracy: 0.0085\n",
            "Epoch 6/20\n",
            "106/106 [==============================] - 5s 48ms/step - loss: 8.2062e-04 - accuracy: 7.6343e-04 - val_loss: 0.0056 - val_accuracy: 0.0085\n",
            "Epoch 7/20\n",
            "106/106 [==============================] - 5s 47ms/step - loss: 9.0026e-04 - accuracy: 0.0025 - val_loss: 0.0043 - val_accuracy: 0.0085\n",
            "Epoch 8/20\n",
            "106/106 [==============================] - 5s 48ms/step - loss: 6.7930e-04 - accuracy: 3.5554e-05 - val_loss: 0.0037 - val_accuracy: 0.0085\n",
            "Epoch 9/20\n",
            "106/106 [==============================] - 5s 47ms/step - loss: 6.6546e-04 - accuracy: 9.1242e-04 - val_loss: 0.0033 - val_accuracy: 0.0085\n",
            "Epoch 10/20\n",
            "106/106 [==============================] - 5s 46ms/step - loss: 5.7810e-04 - accuracy: 7.0619e-04 - val_loss: 0.0033 - val_accuracy: 0.0085\n",
            "Epoch 11/20\n",
            "106/106 [==============================] - 5s 47ms/step - loss: 5.3025e-04 - accuracy: 2.2510e-04 - val_loss: 0.0028 - val_accuracy: 0.0085\n",
            "Epoch 12/20\n",
            "106/106 [==============================] - 5s 47ms/step - loss: 5.0382e-04 - accuracy: 0.0019 - val_loss: 0.0027 - val_accuracy: 0.0085\n",
            "Epoch 13/20\n",
            "106/106 [==============================] - 5s 47ms/step - loss: 4.4671e-04 - accuracy: 0.0019 - val_loss: 0.0021 - val_accuracy: 0.0085\n",
            "Epoch 14/20\n",
            "106/106 [==============================] - 5s 48ms/step - loss: 4.0531e-04 - accuracy: 0.0015 - val_loss: 0.0018 - val_accuracy: 0.0085\n",
            "Epoch 15/20\n",
            "106/106 [==============================] - 5s 47ms/step - loss: 3.8246e-04 - accuracy: 3.5544e-04 - val_loss: 0.0018 - val_accuracy: 0.0085\n",
            "Epoch 16/20\n",
            "106/106 [==============================] - 5s 48ms/step - loss: 3.8023e-04 - accuracy: 6.1796e-04 - val_loss: 0.0024 - val_accuracy: 0.0085\n",
            "Epoch 17/20\n",
            "106/106 [==============================] - 5s 47ms/step - loss: 3.4799e-04 - accuracy: 0.0016 - val_loss: 0.0017 - val_accuracy: 0.0085\n",
            "Epoch 18/20\n",
            "106/106 [==============================] - 5s 48ms/step - loss: 3.1583e-04 - accuracy: 0.0011 - val_loss: 0.0016 - val_accuracy: 0.0085\n",
            "Epoch 19/20\n",
            "106/106 [==============================] - 5s 48ms/step - loss: 3.5010e-04 - accuracy: 8.2440e-04 - val_loss: 0.0016 - val_accuracy: 0.0085\n",
            "Epoch 20/20\n",
            "106/106 [==============================] - 5s 49ms/step - loss: 2.9512e-04 - accuracy: 0.0013 - val_loss: 0.0016 - val_accuracy: 0.0085\n"
          ],
          "name": "stdout"
        },
        {
          "output_type": "execute_result",
          "data": {
            "text/plain": [
              "<tensorflow.python.keras.callbacks.History at 0x7fa0195c1690>"
            ]
          },
          "metadata": {
            "tags": []
          },
          "execution_count": 27
        }
      ]
    },
    {
      "cell_type": "markdown",
      "metadata": {
        "id": "9J9SJ1SpoT84"
      },
      "source": [
        "# Prediction"
      ]
    },
    {
      "cell_type": "code",
      "metadata": {
        "colab": {
          "base_uri": "https://localhost:8080/"
        },
        "id": "ER7spF2fn0vG",
        "outputId": "ca105dbf-e0ca-44d3-ee07-1acb277ffde8"
      },
      "source": [
        "pred = model.predict(x_test)\n",
        "pred.shape"
      ],
      "execution_count": null,
      "outputs": [
        {
          "output_type": "execute_result",
          "data": {
            "text/plain": [
              "(117, 1)"
            ]
          },
          "metadata": {
            "tags": []
          },
          "execution_count": 30
        }
      ]
    },
    {
      "cell_type": "code",
      "metadata": {
        "colab": {
          "base_uri": "https://localhost:8080/",
          "height": 551
        },
        "id": "2ffwohhWo6Xu",
        "outputId": "f6a0f742-0403-4aaf-ba86-85e863d2c324"
      },
      "source": [
        "fig=plt.figure(figsize=(13,9))\n",
        "plt.plot(y_test, label='True', linestyle='-', alpha=0.6)\n",
        "plt.plot(pred, label='Prediction', linestyle='--', alpha=0.6)\n",
        "plt.title('Stock Prediction', size=10)\n",
        "plt.grid()\n",
        "plt.legend()\n",
        "plt.show()"
      ],
      "execution_count": null,
      "outputs": [
        {
          "output_type": "display_data",
          "data": {
            "image/png": "[encoded data removed]",
            "text/plain": [
              "<Figure size 936x648 with 1 Axes>"
            ]
          },
          "metadata": {
            "tags": [],
            "needs_background": "light"
          }
        }
      ]
    }
  ]
}